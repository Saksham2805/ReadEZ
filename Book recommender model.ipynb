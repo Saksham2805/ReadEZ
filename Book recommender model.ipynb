{
 "cells": [
  {
   "cell_type": "code",
   "execution_count": 1,
   "metadata": {
    "execution": {
     "iopub.execute_input": "2023-07-27T06:00:25.705764Z",
     "iopub.status.busy": "2023-07-27T06:00:25.705277Z",
     "iopub.status.idle": "2023-07-27T06:00:25.758733Z",
     "shell.execute_reply": "2023-07-27T06:00:25.755613Z",
     "shell.execute_reply.started": "2023-07-27T06:00:25.705725Z"
    }
   },
   "outputs": [],
   "source": [
    "import warnings\n",
    "warnings.simplefilter(action='ignore')\n",
    "import pandas as pd\n",
    "pd.set_option('display.max_columns', None)\n",
    "pd.set_option('display.width', 500)\n",
    "pd.set_option('display.expand_frame_repr', False)"
   ]
  },
  {
   "cell_type": "code",
   "execution_count": 2,
   "metadata": {
    "execution": {
     "iopub.execute_input": "2023-07-27T06:00:25.76215Z",
     "iopub.status.busy": "2023-07-27T06:00:25.761648Z",
     "iopub.status.idle": "2023-07-27T06:00:29.868208Z",
     "shell.execute_reply": "2023-07-27T06:00:29.866764Z",
     "shell.execute_reply.started": "2023-07-27T06:00:25.762092Z"
    }
   },
   "outputs": [],
   "source": [
    "books = pd.read_csv(r\"C:\\Users\\24Shreyaskumar\\Documents\\Bit Manupilators - Coriolis Hackathon\\ReadEZ\\dataset\\Books.csv\", on_bad_lines = 'skip')\n",
    "rating = pd.read_csv(r\"C:\\Users\\24Shreyaskumar\\Documents\\Bit Manupilators - Coriolis Hackathon\\ReadEZ\\dataset\\Ratings.csv\")"
   ]
  },
  {
   "cell_type": "markdown",
   "metadata": {},
   "source": [
    "# Dataset Overview"
   ]
  },
  {
   "cell_type": "code",
   "execution_count": 3,
   "metadata": {
    "execution": {
     "iopub.execute_input": "2023-07-27T06:00:29.870239Z",
     "iopub.status.busy": "2023-07-27T06:00:29.86979Z",
     "iopub.status.idle": "2023-07-27T06:00:29.89694Z",
     "shell.execute_reply": "2023-07-27T06:00:29.895683Z",
     "shell.execute_reply.started": "2023-07-27T06:00:29.870195Z"
    }
   },
   "outputs": [
    {
     "data": {
      "text/html": [
       "<div>\n",
       "<style scoped>\n",
       "    .dataframe tbody tr th:only-of-type {\n",
       "        vertical-align: middle;\n",
       "    }\n",
       "\n",
       "    .dataframe tbody tr th {\n",
       "        vertical-align: top;\n",
       "    }\n",
       "\n",
       "    .dataframe thead th {\n",
       "        text-align: right;\n",
       "    }\n",
       "</style>\n",
       "<table border=\"1\" class=\"dataframe\">\n",
       "  <thead>\n",
       "    <tr style=\"text-align: right;\">\n",
       "      <th></th>\n",
       "      <th>ISBN</th>\n",
       "      <th>Book-Title</th>\n",
       "      <th>Book-Author</th>\n",
       "      <th>Year-Of-Publication</th>\n",
       "      <th>Publisher</th>\n",
       "      <th>Image-URL-S</th>\n",
       "      <th>Image-URL-M</th>\n",
       "      <th>Image-URL-L</th>\n",
       "    </tr>\n",
       "  </thead>\n",
       "  <tbody>\n",
       "    <tr>\n",
       "      <th>0</th>\n",
       "      <td>0195153448</td>\n",
       "      <td>Classical Mythology</td>\n",
       "      <td>Mark P. O. Morford</td>\n",
       "      <td>2002</td>\n",
       "      <td>Oxford University Press</td>\n",
       "      <td>http://images.amazon.com/images/P/0195153448.0...</td>\n",
       "      <td>http://images.amazon.com/images/P/0195153448.0...</td>\n",
       "      <td>http://images.amazon.com/images/P/0195153448.0...</td>\n",
       "    </tr>\n",
       "    <tr>\n",
       "      <th>1</th>\n",
       "      <td>0002005018</td>\n",
       "      <td>Clara Callan</td>\n",
       "      <td>Richard Bruce Wright</td>\n",
       "      <td>2001</td>\n",
       "      <td>HarperFlamingo Canada</td>\n",
       "      <td>http://images.amazon.com/images/P/0002005018.0...</td>\n",
       "      <td>http://images.amazon.com/images/P/0002005018.0...</td>\n",
       "      <td>http://images.amazon.com/images/P/0002005018.0...</td>\n",
       "    </tr>\n",
       "    <tr>\n",
       "      <th>2</th>\n",
       "      <td>0060973129</td>\n",
       "      <td>Decision in Normandy</td>\n",
       "      <td>Carlo D'Este</td>\n",
       "      <td>1991</td>\n",
       "      <td>HarperPerennial</td>\n",
       "      <td>http://images.amazon.com/images/P/0060973129.0...</td>\n",
       "      <td>http://images.amazon.com/images/P/0060973129.0...</td>\n",
       "      <td>http://images.amazon.com/images/P/0060973129.0...</td>\n",
       "    </tr>\n",
       "    <tr>\n",
       "      <th>3</th>\n",
       "      <td>0374157065</td>\n",
       "      <td>Flu: The Story of the Great Influenza Pandemic...</td>\n",
       "      <td>Gina Bari Kolata</td>\n",
       "      <td>1999</td>\n",
       "      <td>Farrar Straus Giroux</td>\n",
       "      <td>http://images.amazon.com/images/P/0374157065.0...</td>\n",
       "      <td>http://images.amazon.com/images/P/0374157065.0...</td>\n",
       "      <td>http://images.amazon.com/images/P/0374157065.0...</td>\n",
       "    </tr>\n",
       "    <tr>\n",
       "      <th>4</th>\n",
       "      <td>0393045218</td>\n",
       "      <td>The Mummies of Urumchi</td>\n",
       "      <td>E. J. W. Barber</td>\n",
       "      <td>1999</td>\n",
       "      <td>W. W. Norton &amp;amp; Company</td>\n",
       "      <td>http://images.amazon.com/images/P/0393045218.0...</td>\n",
       "      <td>http://images.amazon.com/images/P/0393045218.0...</td>\n",
       "      <td>http://images.amazon.com/images/P/0393045218.0...</td>\n",
       "    </tr>\n",
       "  </tbody>\n",
       "</table>\n",
       "</div>"
      ],
      "text/plain": [
       "         ISBN                                         Book-Title           Book-Author Year-Of-Publication                   Publisher                                        Image-URL-S                                        Image-URL-M                                        Image-URL-L\n",
       "0  0195153448                                Classical Mythology    Mark P. O. Morford                2002     Oxford University Press  http://images.amazon.com/images/P/0195153448.0...  http://images.amazon.com/images/P/0195153448.0...  http://images.amazon.com/images/P/0195153448.0...\n",
       "1  0002005018                                       Clara Callan  Richard Bruce Wright                2001       HarperFlamingo Canada  http://images.amazon.com/images/P/0002005018.0...  http://images.amazon.com/images/P/0002005018.0...  http://images.amazon.com/images/P/0002005018.0...\n",
       "2  0060973129                               Decision in Normandy          Carlo D'Este                1991             HarperPerennial  http://images.amazon.com/images/P/0060973129.0...  http://images.amazon.com/images/P/0060973129.0...  http://images.amazon.com/images/P/0060973129.0...\n",
       "3  0374157065  Flu: The Story of the Great Influenza Pandemic...      Gina Bari Kolata                1999        Farrar Straus Giroux  http://images.amazon.com/images/P/0374157065.0...  http://images.amazon.com/images/P/0374157065.0...  http://images.amazon.com/images/P/0374157065.0...\n",
       "4  0393045218                             The Mummies of Urumchi       E. J. W. Barber                1999  W. W. Norton &amp; Company  http://images.amazon.com/images/P/0393045218.0...  http://images.amazon.com/images/P/0393045218.0...  http://images.amazon.com/images/P/0393045218.0..."
      ]
     },
     "execution_count": 3,
     "metadata": {},
     "output_type": "execute_result"
    }
   ],
   "source": [
    "books.head()"
   ]
  },
  {
   "cell_type": "code",
   "execution_count": 4,
   "metadata": {
    "execution": {
     "iopub.execute_input": "2023-07-27T06:00:29.900529Z",
     "iopub.status.busy": "2023-07-27T06:00:29.900157Z",
     "iopub.status.idle": "2023-07-27T06:00:29.912205Z",
     "shell.execute_reply": "2023-07-27T06:00:29.910714Z",
     "shell.execute_reply.started": "2023-07-27T06:00:29.900499Z"
    }
   },
   "outputs": [
    {
     "data": {
      "text/html": [
       "<div>\n",
       "<style scoped>\n",
       "    .dataframe tbody tr th:only-of-type {\n",
       "        vertical-align: middle;\n",
       "    }\n",
       "\n",
       "    .dataframe tbody tr th {\n",
       "        vertical-align: top;\n",
       "    }\n",
       "\n",
       "    .dataframe thead th {\n",
       "        text-align: right;\n",
       "    }\n",
       "</style>\n",
       "<table border=\"1\" class=\"dataframe\">\n",
       "  <thead>\n",
       "    <tr style=\"text-align: right;\">\n",
       "      <th></th>\n",
       "      <th>User-ID</th>\n",
       "      <th>ISBN</th>\n",
       "      <th>Book-Rating</th>\n",
       "    </tr>\n",
       "  </thead>\n",
       "  <tbody>\n",
       "    <tr>\n",
       "      <th>0</th>\n",
       "      <td>276725</td>\n",
       "      <td>034545104X</td>\n",
       "      <td>0</td>\n",
       "    </tr>\n",
       "    <tr>\n",
       "      <th>1</th>\n",
       "      <td>276726</td>\n",
       "      <td>0155061224</td>\n",
       "      <td>5</td>\n",
       "    </tr>\n",
       "    <tr>\n",
       "      <th>2</th>\n",
       "      <td>276727</td>\n",
       "      <td>0446520802</td>\n",
       "      <td>0</td>\n",
       "    </tr>\n",
       "    <tr>\n",
       "      <th>3</th>\n",
       "      <td>276729</td>\n",
       "      <td>052165615X</td>\n",
       "      <td>3</td>\n",
       "    </tr>\n",
       "    <tr>\n",
       "      <th>4</th>\n",
       "      <td>276729</td>\n",
       "      <td>0521795028</td>\n",
       "      <td>6</td>\n",
       "    </tr>\n",
       "  </tbody>\n",
       "</table>\n",
       "</div>"
      ],
      "text/plain": [
       "   User-ID        ISBN  Book-Rating\n",
       "0   276725  034545104X            0\n",
       "1   276726  0155061224            5\n",
       "2   276727  0446520802            0\n",
       "3   276729  052165615X            3\n",
       "4   276729  0521795028            6"
      ]
     },
     "execution_count": 4,
     "metadata": {},
     "output_type": "execute_result"
    }
   ],
   "source": [
    "rating.head()"
   ]
  },
  {
   "cell_type": "code",
   "execution_count": 5,
   "metadata": {
    "execution": {
     "iopub.execute_input": "2023-07-27T06:00:29.914597Z",
     "iopub.status.busy": "2023-07-27T06:00:29.914166Z",
     "iopub.status.idle": "2023-07-27T06:00:31.495241Z",
     "shell.execute_reply": "2023-07-27T06:00:31.493946Z",
     "shell.execute_reply.started": "2023-07-27T06:00:29.914525Z"
    }
   },
   "outputs": [
    {
     "data": {
      "text/html": [
       "<div>\n",
       "<style scoped>\n",
       "    .dataframe tbody tr th:only-of-type {\n",
       "        vertical-align: middle;\n",
       "    }\n",
       "\n",
       "    .dataframe tbody tr th {\n",
       "        vertical-align: top;\n",
       "    }\n",
       "\n",
       "    .dataframe thead th {\n",
       "        text-align: right;\n",
       "    }\n",
       "</style>\n",
       "<table border=\"1\" class=\"dataframe\">\n",
       "  <thead>\n",
       "    <tr style=\"text-align: right;\">\n",
       "      <th></th>\n",
       "      <th>User-ID</th>\n",
       "      <th>ISBN</th>\n",
       "      <th>Book-Rating</th>\n",
       "      <th>Book-Title</th>\n",
       "      <th>Book-Author</th>\n",
       "      <th>Year-Of-Publication</th>\n",
       "      <th>Publisher</th>\n",
       "      <th>Image-URL-S</th>\n",
       "      <th>Image-URL-M</th>\n",
       "      <th>Image-URL-L</th>\n",
       "    </tr>\n",
       "  </thead>\n",
       "  <tbody>\n",
       "    <tr>\n",
       "      <th>0</th>\n",
       "      <td>276725</td>\n",
       "      <td>034545104X</td>\n",
       "      <td>0</td>\n",
       "      <td>Flesh Tones: A Novel</td>\n",
       "      <td>M. J. Rose</td>\n",
       "      <td>2002</td>\n",
       "      <td>Ballantine Books</td>\n",
       "      <td>http://images.amazon.com/images/P/034545104X.0...</td>\n",
       "      <td>http://images.amazon.com/images/P/034545104X.0...</td>\n",
       "      <td>http://images.amazon.com/images/P/034545104X.0...</td>\n",
       "    </tr>\n",
       "    <tr>\n",
       "      <th>1</th>\n",
       "      <td>276726</td>\n",
       "      <td>0155061224</td>\n",
       "      <td>5</td>\n",
       "      <td>Rites of Passage</td>\n",
       "      <td>Judith Rae</td>\n",
       "      <td>2001</td>\n",
       "      <td>Heinle</td>\n",
       "      <td>http://images.amazon.com/images/P/0155061224.0...</td>\n",
       "      <td>http://images.amazon.com/images/P/0155061224.0...</td>\n",
       "      <td>http://images.amazon.com/images/P/0155061224.0...</td>\n",
       "    </tr>\n",
       "    <tr>\n",
       "      <th>2</th>\n",
       "      <td>276727</td>\n",
       "      <td>0446520802</td>\n",
       "      <td>0</td>\n",
       "      <td>The Notebook</td>\n",
       "      <td>Nicholas Sparks</td>\n",
       "      <td>1996</td>\n",
       "      <td>Warner Books</td>\n",
       "      <td>http://images.amazon.com/images/P/0446520802.0...</td>\n",
       "      <td>http://images.amazon.com/images/P/0446520802.0...</td>\n",
       "      <td>http://images.amazon.com/images/P/0446520802.0...</td>\n",
       "    </tr>\n",
       "    <tr>\n",
       "      <th>3</th>\n",
       "      <td>276729</td>\n",
       "      <td>052165615X</td>\n",
       "      <td>3</td>\n",
       "      <td>Help!: Level 1</td>\n",
       "      <td>Philip Prowse</td>\n",
       "      <td>1999</td>\n",
       "      <td>Cambridge University Press</td>\n",
       "      <td>http://images.amazon.com/images/P/052165615X.0...</td>\n",
       "      <td>http://images.amazon.com/images/P/052165615X.0...</td>\n",
       "      <td>http://images.amazon.com/images/P/052165615X.0...</td>\n",
       "    </tr>\n",
       "    <tr>\n",
       "      <th>4</th>\n",
       "      <td>276729</td>\n",
       "      <td>0521795028</td>\n",
       "      <td>6</td>\n",
       "      <td>The Amsterdam Connection : Level 4 (Cambridge ...</td>\n",
       "      <td>Sue Leather</td>\n",
       "      <td>2001</td>\n",
       "      <td>Cambridge University Press</td>\n",
       "      <td>http://images.amazon.com/images/P/0521795028.0...</td>\n",
       "      <td>http://images.amazon.com/images/P/0521795028.0...</td>\n",
       "      <td>http://images.amazon.com/images/P/0521795028.0...</td>\n",
       "    </tr>\n",
       "  </tbody>\n",
       "</table>\n",
       "</div>"
      ],
      "text/plain": [
       "   User-ID        ISBN  Book-Rating                                         Book-Title      Book-Author Year-Of-Publication                   Publisher                                        Image-URL-S                                        Image-URL-M                                        Image-URL-L\n",
       "0   276725  034545104X            0                               Flesh Tones: A Novel       M. J. Rose                2002            Ballantine Books  http://images.amazon.com/images/P/034545104X.0...  http://images.amazon.com/images/P/034545104X.0...  http://images.amazon.com/images/P/034545104X.0...\n",
       "1   276726  0155061224            5                                   Rites of Passage       Judith Rae                2001                      Heinle  http://images.amazon.com/images/P/0155061224.0...  http://images.amazon.com/images/P/0155061224.0...  http://images.amazon.com/images/P/0155061224.0...\n",
       "2   276727  0446520802            0                                       The Notebook  Nicholas Sparks                1996                Warner Books  http://images.amazon.com/images/P/0446520802.0...  http://images.amazon.com/images/P/0446520802.0...  http://images.amazon.com/images/P/0446520802.0...\n",
       "3   276729  052165615X            3                                     Help!: Level 1    Philip Prowse                1999  Cambridge University Press  http://images.amazon.com/images/P/052165615X.0...  http://images.amazon.com/images/P/052165615X.0...  http://images.amazon.com/images/P/052165615X.0...\n",
       "4   276729  0521795028            6  The Amsterdam Connection : Level 4 (Cambridge ...      Sue Leather                2001  Cambridge University Press  http://images.amazon.com/images/P/0521795028.0...  http://images.amazon.com/images/P/0521795028.0...  http://images.amazon.com/images/P/0521795028.0..."
      ]
     },
     "execution_count": 5,
     "metadata": {},
     "output_type": "execute_result"
    }
   ],
   "source": [
    "# By using the ISBN, which is the unique code used for books, the two data sets we added before, named books and ratings, are combined.\n",
    "\n",
    "df = rating.merge(books, how=\"left\", on=\"ISBN\")\n",
    "df.head()"
   ]
  },
  {
   "cell_type": "code",
   "execution_count": 6,
   "metadata": {
    "execution": {
     "iopub.execute_input": "2023-07-27T06:00:31.497174Z",
     "iopub.status.busy": "2023-07-27T06:00:31.49678Z",
     "iopub.status.idle": "2023-07-27T06:00:34.830623Z",
     "shell.execute_reply": "2023-07-27T06:00:34.829272Z",
     "shell.execute_reply.started": "2023-07-27T06:00:31.497143Z"
    }
   },
   "outputs": [
    {
     "name": "stdout",
     "output_type": "stream",
     "text": [
      "<class 'pandas.core.frame.DataFrame'>\n",
      "Int64Index: 1149780 entries, 0 to 1149779\n",
      "Data columns (total 10 columns):\n",
      " #   Column               Non-Null Count    Dtype \n",
      "---  ------               --------------    ----- \n",
      " 0   User-ID              1149780 non-null  int64 \n",
      " 1   ISBN                 1149780 non-null  object\n",
      " 2   Book-Rating          1149780 non-null  int64 \n",
      " 3   Book-Title           1031136 non-null  object\n",
      " 4   Book-Author          1031135 non-null  object\n",
      " 5   Year-Of-Publication  1031136 non-null  object\n",
      " 6   Publisher            1031134 non-null  object\n",
      " 7   Image-URL-S          1031136 non-null  object\n",
      " 8   Image-URL-M          1031136 non-null  object\n",
      " 9   Image-URL-L          1031132 non-null  object\n",
      "dtypes: int64(2), object(8)\n",
      "memory usage: 96.5+ MB\n"
     ]
    }
   ],
   "source": [
    "df.info()"
   ]
  },
  {
   "cell_type": "code",
   "execution_count": 7,
   "metadata": {
    "execution": {
     "iopub.execute_input": "2023-07-27T06:00:34.833392Z",
     "iopub.status.busy": "2023-07-27T06:00:34.832309Z",
     "iopub.status.idle": "2023-07-27T06:00:34.842416Z",
     "shell.execute_reply": "2023-07-27T06:00:34.841051Z",
     "shell.execute_reply.started": "2023-07-27T06:00:34.833344Z"
    }
   },
   "outputs": [
    {
     "data": {
      "text/plain": [
       "(1149780, 10)"
      ]
     },
     "execution_count": 7,
     "metadata": {},
     "output_type": "execute_result"
    }
   ],
   "source": [
    "df.shape"
   ]
  },
  {
   "cell_type": "code",
   "execution_count": 8,
   "metadata": {
    "execution": {
     "iopub.execute_input": "2023-07-27T06:00:34.844414Z",
     "iopub.status.busy": "2023-07-27T06:00:34.84401Z",
     "iopub.status.idle": "2023-07-27T06:00:35.107749Z",
     "shell.execute_reply": "2023-07-27T06:00:35.106509Z",
     "shell.execute_reply.started": "2023-07-27T06:00:34.844381Z"
    }
   },
   "outputs": [
    {
     "data": {
      "text/plain": [
       "241071"
      ]
     },
     "execution_count": 8,
     "metadata": {},
     "output_type": "execute_result"
    }
   ],
   "source": [
    "df[\"Book-Title\"].nunique()"
   ]
  },
  {
   "cell_type": "code",
   "execution_count": 9,
   "metadata": {
    "execution": {
     "iopub.execute_input": "2023-07-27T06:00:35.109759Z",
     "iopub.status.busy": "2023-07-27T06:00:35.109418Z",
     "iopub.status.idle": "2023-07-27T06:00:35.532597Z",
     "shell.execute_reply": "2023-07-27T06:00:35.531798Z",
     "shell.execute_reply.started": "2023-07-27T06:00:35.10973Z"
    }
   },
   "outputs": [
    {
     "data": {
      "text/html": [
       "<div>\n",
       "<style scoped>\n",
       "    .dataframe tbody tr th:only-of-type {\n",
       "        vertical-align: middle;\n",
       "    }\n",
       "\n",
       "    .dataframe tbody tr th {\n",
       "        vertical-align: top;\n",
       "    }\n",
       "\n",
       "    .dataframe thead th {\n",
       "        text-align: right;\n",
       "    }\n",
       "</style>\n",
       "<table border=\"1\" class=\"dataframe\">\n",
       "  <thead>\n",
       "    <tr style=\"text-align: right;\">\n",
       "      <th></th>\n",
       "      <th>Book-Title</th>\n",
       "    </tr>\n",
       "  </thead>\n",
       "  <tbody>\n",
       "    <tr>\n",
       "      <th>Wild Animus</th>\n",
       "      <td>2502</td>\n",
       "    </tr>\n",
       "    <tr>\n",
       "      <th>The Lovely Bones: A Novel</th>\n",
       "      <td>1295</td>\n",
       "    </tr>\n",
       "    <tr>\n",
       "      <th>The Da Vinci Code</th>\n",
       "      <td>898</td>\n",
       "    </tr>\n",
       "    <tr>\n",
       "      <th>A Painted House</th>\n",
       "      <td>838</td>\n",
       "    </tr>\n",
       "    <tr>\n",
       "      <th>The Nanny Diaries: A Novel</th>\n",
       "      <td>828</td>\n",
       "    </tr>\n",
       "    <tr>\n",
       "      <th>Bridget Jones's Diary</th>\n",
       "      <td>815</td>\n",
       "    </tr>\n",
       "    <tr>\n",
       "      <th>The Secret Life of Bees</th>\n",
       "      <td>774</td>\n",
       "    </tr>\n",
       "    <tr>\n",
       "      <th>Divine Secrets of the Ya-Ya Sisterhood: A Novel</th>\n",
       "      <td>740</td>\n",
       "    </tr>\n",
       "    <tr>\n",
       "      <th>The Red Tent (Bestselling Backlist)</th>\n",
       "      <td>723</td>\n",
       "    </tr>\n",
       "    <tr>\n",
       "      <th>Angels &amp;amp; Demons</th>\n",
       "      <td>670</td>\n",
       "    </tr>\n",
       "  </tbody>\n",
       "</table>\n",
       "</div>"
      ],
      "text/plain": [
       "                                                 Book-Title\n",
       "Wild Animus                                            2502\n",
       "The Lovely Bones: A Novel                              1295\n",
       "The Da Vinci Code                                       898\n",
       "A Painted House                                         838\n",
       "The Nanny Diaries: A Novel                              828\n",
       "Bridget Jones's Diary                                   815\n",
       "The Secret Life of Bees                                 774\n",
       "Divine Secrets of the Ya-Ya Sisterhood: A Novel         740\n",
       "The Red Tent (Bestselling Backlist)                     723\n",
       "Angels &amp; Demons                                     670"
      ]
     },
     "execution_count": 9,
     "metadata": {},
     "output_type": "execute_result"
    }
   ],
   "source": [
    "# Number of rates for each book\n",
    "rating_counts = pd.DataFrame(df[\"Book-Title\"].value_counts())\n",
    "rating_counts.head(10)"
   ]
  },
  {
   "cell_type": "code",
   "execution_count": 76,
   "metadata": {
    "execution": {
     "iopub.execute_input": "2023-07-27T06:00:35.537025Z",
     "iopub.status.busy": "2023-07-27T06:00:35.536415Z",
     "iopub.status.idle": "2023-07-27T06:00:36.33105Z",
     "shell.execute_reply": "2023-07-27T06:00:36.33017Z",
     "shell.execute_reply.started": "2023-07-27T06:00:35.536992Z"
    }
   },
   "outputs": [
    {
     "data": {
      "text/plain": [
       "(302443, 10)"
      ]
     },
     "execution_count": 76,
     "metadata": {},
     "output_type": "execute_result"
    }
   ],
   "source": [
    "# Let's remove the books with a rate less than 100 from the data set.\n",
    "\n",
    "rare_books = rating_counts[rating_counts[\"Book-Title\"] < 100].index\n",
    "common_books = df[~df[\"Book-Title\"].isin(rare_books)]\n",
    "common_books.shape"
   ]
  },
  {
   "cell_type": "code",
   "execution_count": 77,
   "metadata": {
    "execution": {
     "iopub.execute_input": "2023-07-27T06:00:36.332909Z",
     "iopub.status.busy": "2023-07-27T06:00:36.332224Z",
     "iopub.status.idle": "2023-07-27T06:00:36.364265Z",
     "shell.execute_reply": "2023-07-27T06:00:36.363231Z",
     "shell.execute_reply.started": "2023-07-27T06:00:36.332876Z"
    }
   },
   "outputs": [
    {
     "data": {
      "text/plain": [
       "914"
      ]
     },
     "execution_count": 77,
     "metadata": {},
     "output_type": "execute_result"
    }
   ],
   "source": [
    "common_books[\"Book-Title\"].nunique()"
   ]
  },
  {
   "cell_type": "markdown",
   "metadata": {},
   "source": [
    "We now have 914 books with over 100 rates."
   ]
  },
  {
   "cell_type": "code",
   "execution_count": 78,
   "metadata": {
    "execution": {
     "iopub.execute_input": "2023-07-27T06:00:36.366412Z",
     "iopub.status.busy": "2023-07-27T06:00:36.365549Z",
     "iopub.status.idle": "2023-07-27T06:00:37.598789Z",
     "shell.execute_reply": "2023-07-27T06:00:37.597416Z",
     "shell.execute_reply.started": "2023-07-27T06:00:36.366376Z"
    }
   },
   "outputs": [
    {
     "data": {
      "text/plain": [
       "(38132, 914)"
      ]
     },
     "execution_count": 78,
     "metadata": {},
     "output_type": "execute_result"
    }
   ],
   "source": [
    "user_books_df = common_books.pivot_table(index=[\"User-ID\"], columns=[\"Book-Title\"], values=\"Book-Rating\")\n",
    "user_books_df.shape"
   ]
  },
  {
   "cell_type": "markdown",
   "metadata": {},
   "source": [
    "Rows have users, columns have books."
   ]
  },
  {
   "cell_type": "code",
   "execution_count": 79,
   "metadata": {
    "execution": {
     "iopub.execute_input": "2023-07-27T06:00:37.601041Z",
     "iopub.status.busy": "2023-07-27T06:00:37.600546Z",
     "iopub.status.idle": "2023-07-27T06:00:37.612976Z",
     "shell.execute_reply": "2023-07-27T06:00:37.611652Z",
     "shell.execute_reply.started": "2023-07-27T06:00:37.601005Z"
    }
   },
   "outputs": [
    {
     "data": {
      "text/plain": [
       "Index(['1984', '1st to Die: A Novel', '24 Hours', '2nd Chance', '4 Blondes', '84 Charing Cross Road', 'A Beautiful Mind: The Life of Mathematical Genius and Nobel Laureate John Nash', 'A Bend in the Road', 'A Case of Need', 'A Child Called \\It\\\": One Child's Courage to Survive\"',\n",
       "       ...\n",
       "       'Without Remorse', 'Wizard and Glass (The Dark Tower, Book 4)', 'Women Who Run with the Wolves', 'Word Freak: Heartbreak, Triumph, Genius, and Obsession in the World of Competitive Scrabble Players', 'Wuthering Heights', 'Year of Wonders', 'You Belong To Me', 'Zen and the Art of Motorcycle Maintenance: An Inquiry into Values', 'Zoya', '\\O\\\" Is for Outlaw\"'],\n",
       "      dtype='object', name='Book-Title', length=914)"
      ]
     },
     "execution_count": 79,
     "metadata": {},
     "output_type": "execute_result"
    }
   ],
   "source": [
    "user_books_df.columns"
   ]
  },
  {
   "cell_type": "markdown",
   "metadata": {},
   "source": [
    "# User Based Recommendation"
   ]
  },
  {
   "cell_type": "markdown",
   "metadata": {},
   "source": [
    "## Selecting a Random User and Determining the Movies They Watched"
   ]
  },
  {
   "cell_type": "code",
   "execution_count": 80,
   "metadata": {
    "execution": {
     "iopub.execute_input": "2023-07-27T06:00:37.615269Z",
     "iopub.status.busy": "2023-07-27T06:00:37.614809Z",
     "iopub.status.idle": "2023-07-27T06:00:37.624483Z",
     "shell.execute_reply": "2023-07-27T06:00:37.622997Z",
     "shell.execute_reply.started": "2023-07-27T06:00:37.615227Z"
    }
   },
   "outputs": [],
   "source": [
    "#random_user = int(pd.Series(user_books_df.index).sample(1).values)"
   ]
  },
  {
   "cell_type": "code",
   "execution_count": 81,
   "metadata": {
    "execution": {
     "iopub.execute_input": "2023-07-27T06:00:37.629146Z",
     "iopub.status.busy": "2023-07-27T06:00:37.628746Z",
     "iopub.status.idle": "2023-07-27T06:00:37.637707Z",
     "shell.execute_reply": "2023-07-27T06:00:37.636682Z",
     "shell.execute_reply.started": "2023-07-27T06:00:37.6291Z"
    }
   },
   "outputs": [],
   "source": [
    "random_user = 99252  "
   ]
  },
  {
   "cell_type": "code",
   "execution_count": 82,
   "metadata": {
    "execution": {
     "iopub.execute_input": "2023-07-27T06:00:37.639327Z",
     "iopub.status.busy": "2023-07-27T06:00:37.638956Z",
     "iopub.status.idle": "2023-07-27T06:00:37.657385Z",
     "shell.execute_reply": "2023-07-27T06:00:37.656011Z",
     "shell.execute_reply.started": "2023-07-27T06:00:37.639295Z"
    }
   },
   "outputs": [],
   "source": [
    "random_user_df = user_books_df[user_books_df.index == random_user]"
   ]
  },
  {
   "cell_type": "code",
   "execution_count": 83,
   "metadata": {
    "execution": {
     "iopub.execute_input": "2023-07-27T06:00:37.659217Z",
     "iopub.status.busy": "2023-07-27T06:00:37.658849Z",
     "iopub.status.idle": "2023-07-27T06:00:37.677354Z",
     "shell.execute_reply": "2023-07-27T06:00:37.675951Z",
     "shell.execute_reply.started": "2023-07-27T06:00:37.659175Z"
    }
   },
   "outputs": [
    {
     "data": {
      "text/plain": [
       "['Anne of Green Gables (Anne of Green Gables Novels (Paperback))',\n",
       " 'Message in a Bottle',\n",
       " 'The Summons',\n",
       " 'To Kill a Mockingbird',\n",
       " 'Whispers']"
      ]
     },
     "execution_count": 83,
     "metadata": {},
     "output_type": "execute_result"
    }
   ],
   "source": [
    "books_read = random_user_df.columns[random_user_df.notna().any()].tolist()\n",
    "books_read"
   ]
  },
  {
   "cell_type": "markdown",
   "metadata": {},
   "source": [
    "We have accessed the books that the randomly selected user has read."
   ]
  },
  {
   "cell_type": "markdown",
   "metadata": {},
   "source": [
    "## Accessing the Data and IDs of Other Users Who Read the Same Books"
   ]
  },
  {
   "cell_type": "code",
   "execution_count": 84,
   "metadata": {
    "execution": {
     "iopub.execute_input": "2023-07-27T06:00:37.680535Z",
     "iopub.status.busy": "2023-07-27T06:00:37.679262Z",
     "iopub.status.idle": "2023-07-27T06:00:37.692543Z",
     "shell.execute_reply": "2023-07-27T06:00:37.691066Z",
     "shell.execute_reply.started": "2023-07-27T06:00:37.680491Z"
    }
   },
   "outputs": [],
   "source": [
    "# Let's create a new dataframe consisting of the books that the selected user has read.\n",
    "\n",
    "books_read_df = user_books_df[books_read]"
   ]
  },
  {
   "cell_type": "code",
   "execution_count": 85,
   "metadata": {
    "execution": {
     "iopub.execute_input": "2023-07-27T06:00:37.694406Z",
     "iopub.status.busy": "2023-07-27T06:00:37.693994Z",
     "iopub.status.idle": "2023-07-27T06:00:37.718091Z",
     "shell.execute_reply": "2023-07-27T06:00:37.717291Z",
     "shell.execute_reply.started": "2023-07-27T06:00:37.694376Z"
    }
   },
   "outputs": [
    {
     "data": {
      "text/html": [
       "<div>\n",
       "<style scoped>\n",
       "    .dataframe tbody tr th:only-of-type {\n",
       "        vertical-align: middle;\n",
       "    }\n",
       "\n",
       "    .dataframe tbody tr th {\n",
       "        vertical-align: top;\n",
       "    }\n",
       "\n",
       "    .dataframe thead th {\n",
       "        text-align: right;\n",
       "    }\n",
       "</style>\n",
       "<table border=\"1\" class=\"dataframe\">\n",
       "  <thead>\n",
       "    <tr style=\"text-align: right;\">\n",
       "      <th></th>\n",
       "      <th>User-ID</th>\n",
       "      <th>Book-Count</th>\n",
       "    </tr>\n",
       "  </thead>\n",
       "  <tbody>\n",
       "    <tr>\n",
       "      <th>0</th>\n",
       "      <td>8</td>\n",
       "      <td>0</td>\n",
       "    </tr>\n",
       "    <tr>\n",
       "      <th>1</th>\n",
       "      <td>9</td>\n",
       "      <td>0</td>\n",
       "    </tr>\n",
       "    <tr>\n",
       "      <th>2</th>\n",
       "      <td>14</td>\n",
       "      <td>0</td>\n",
       "    </tr>\n",
       "    <tr>\n",
       "      <th>3</th>\n",
       "      <td>16</td>\n",
       "      <td>0</td>\n",
       "    </tr>\n",
       "    <tr>\n",
       "      <th>4</th>\n",
       "      <td>17</td>\n",
       "      <td>0</td>\n",
       "    </tr>\n",
       "    <tr>\n",
       "      <th>...</th>\n",
       "      <td>...</td>\n",
       "      <td>...</td>\n",
       "    </tr>\n",
       "    <tr>\n",
       "      <th>38127</th>\n",
       "      <td>278836</td>\n",
       "      <td>0</td>\n",
       "    </tr>\n",
       "    <tr>\n",
       "      <th>38128</th>\n",
       "      <td>278843</td>\n",
       "      <td>0</td>\n",
       "    </tr>\n",
       "    <tr>\n",
       "      <th>38129</th>\n",
       "      <td>278844</td>\n",
       "      <td>0</td>\n",
       "    </tr>\n",
       "    <tr>\n",
       "      <th>38130</th>\n",
       "      <td>278846</td>\n",
       "      <td>0</td>\n",
       "    </tr>\n",
       "    <tr>\n",
       "      <th>38131</th>\n",
       "      <td>278854</td>\n",
       "      <td>0</td>\n",
       "    </tr>\n",
       "  </tbody>\n",
       "</table>\n",
       "<p>38132 rows × 2 columns</p>\n",
       "</div>"
      ],
      "text/plain": [
       "       User-ID  Book-Count\n",
       "0            8           0\n",
       "1            9           0\n",
       "2           14           0\n",
       "3           16           0\n",
       "4           17           0\n",
       "...        ...         ...\n",
       "38127   278836           0\n",
       "38128   278843           0\n",
       "38129   278844           0\n",
       "38130   278846           0\n",
       "38131   278854           0\n",
       "\n",
       "[38132 rows x 2 columns]"
      ]
     },
     "execution_count": 85,
     "metadata": {},
     "output_type": "execute_result"
    }
   ],
   "source": [
    "# Create a new dataframe named user_book_count that contains information about how many of the selected user's read books were read by each user.\n",
    "\n",
    "user_book_count = books_read_df.T.notnull().sum()\n",
    "user_book_count = user_book_count.reset_index()\n",
    "user_book_count.columns = [\"User-ID\", \"Book-Count\"]\n",
    "user_book_count"
   ]
  },
  {
   "cell_type": "code",
   "execution_count": 86,
   "metadata": {
    "execution": {
     "iopub.execute_input": "2023-07-27T06:00:37.720369Z",
     "iopub.status.busy": "2023-07-27T06:00:37.719155Z",
     "iopub.status.idle": "2023-07-27T06:00:37.733681Z",
     "shell.execute_reply": "2023-07-27T06:00:37.732284Z",
     "shell.execute_reply.started": "2023-07-27T06:00:37.720307Z"
    }
   },
   "outputs": [
    {
     "data": {
      "text/plain": [
       "922        7346\n",
       "1067       8362\n",
       "1438      11676\n",
       "2091      16795\n",
       "2651      21014\n",
       "          ...  \n",
       "32541    238120\n",
       "35786    260897\n",
       "35971    262399\n",
       "36782    268330\n",
       "37547    274308\n",
       "Name: User-ID, Length: 65, dtype: int64"
      ]
     },
     "execution_count": 86,
     "metadata": {},
     "output_type": "execute_result"
    }
   ],
   "source": [
    "# Let's find users who use at least 60% of the books our users read.\n",
    "\n",
    "perc = len(books_read) * 60 / 100\n",
    "users_same_books = user_book_count[user_book_count[\"Book-Count\"] >= perc][\"User-ID\"]\n",
    "users_same_books"
   ]
  },
  {
   "cell_type": "markdown",
   "metadata": {},
   "source": [
    "## Determining the Users Most Similar to the User to be Recommended"
   ]
  },
  {
   "cell_type": "code",
   "execution_count": 87,
   "metadata": {
    "execution": {
     "iopub.execute_input": "2023-07-27T06:00:37.735427Z",
     "iopub.status.busy": "2023-07-27T06:00:37.735044Z",
     "iopub.status.idle": "2023-07-27T06:00:37.746157Z",
     "shell.execute_reply": "2023-07-27T06:00:37.745241Z",
     "shell.execute_reply.started": "2023-07-27T06:00:37.735395Z"
    }
   },
   "outputs": [],
   "source": [
    "# Let's gather the data of other users who are similar to the selected user.\n",
    "\n",
    "final_df = pd.concat([books_read_df[books_read_df.index.isin(users_same_books)], random_user_df[books_read]])"
   ]
  },
  {
   "cell_type": "code",
   "execution_count": 88,
   "metadata": {
    "execution": {
     "iopub.execute_input": "2023-07-27T06:00:37.748029Z",
     "iopub.status.busy": "2023-07-27T06:00:37.747496Z",
     "iopub.status.idle": "2023-07-27T06:00:37.773407Z",
     "shell.execute_reply": "2023-07-27T06:00:37.772169Z",
     "shell.execute_reply.started": "2023-07-27T06:00:37.747998Z"
    }
   },
   "outputs": [
    {
     "data": {
      "text/html": [
       "<div>\n",
       "<style scoped>\n",
       "    .dataframe tbody tr th:only-of-type {\n",
       "        vertical-align: middle;\n",
       "    }\n",
       "\n",
       "    .dataframe tbody tr th {\n",
       "        vertical-align: top;\n",
       "    }\n",
       "\n",
       "    .dataframe thead th {\n",
       "        text-align: right;\n",
       "    }\n",
       "</style>\n",
       "<table border=\"1\" class=\"dataframe\">\n",
       "  <thead>\n",
       "    <tr style=\"text-align: right;\">\n",
       "      <th></th>\n",
       "      <th>user_id_1</th>\n",
       "      <th>user_id_2</th>\n",
       "      <th>corr</th>\n",
       "    </tr>\n",
       "  </thead>\n",
       "  <tbody>\n",
       "    <tr>\n",
       "      <th>0</th>\n",
       "      <td>102647</td>\n",
       "      <td>7346</td>\n",
       "      <td>-1.000000</td>\n",
       "    </tr>\n",
       "    <tr>\n",
       "      <th>1</th>\n",
       "      <td>99252</td>\n",
       "      <td>43842</td>\n",
       "      <td>-0.997509</td>\n",
       "    </tr>\n",
       "    <tr>\n",
       "      <th>2</th>\n",
       "      <td>16795</td>\n",
       "      <td>112001</td>\n",
       "      <td>-0.997406</td>\n",
       "    </tr>\n",
       "    <tr>\n",
       "      <th>3</th>\n",
       "      <td>201017</td>\n",
       "      <td>99252</td>\n",
       "      <td>-0.994135</td>\n",
       "    </tr>\n",
       "    <tr>\n",
       "      <th>4</th>\n",
       "      <td>11676</td>\n",
       "      <td>112001</td>\n",
       "      <td>-0.989743</td>\n",
       "    </tr>\n",
       "    <tr>\n",
       "      <th>...</th>\n",
       "      <td>...</td>\n",
       "      <td>...</td>\n",
       "      <td>...</td>\n",
       "    </tr>\n",
       "    <tr>\n",
       "      <th>113</th>\n",
       "      <td>11676</td>\n",
       "      <td>59172</td>\n",
       "      <td>0.985136</td>\n",
       "    </tr>\n",
       "    <tr>\n",
       "      <th>114</th>\n",
       "      <td>55548</td>\n",
       "      <td>187145</td>\n",
       "      <td>1.000000</td>\n",
       "    </tr>\n",
       "    <tr>\n",
       "      <th>115</th>\n",
       "      <td>236283</td>\n",
       "      <td>30972</td>\n",
       "      <td>1.000000</td>\n",
       "    </tr>\n",
       "    <tr>\n",
       "      <th>116</th>\n",
       "      <td>260897</td>\n",
       "      <td>231210</td>\n",
       "      <td>1.000000</td>\n",
       "    </tr>\n",
       "    <tr>\n",
       "      <th>117</th>\n",
       "      <td>7346</td>\n",
       "      <td>8362</td>\n",
       "      <td>NaN</td>\n",
       "    </tr>\n",
       "  </tbody>\n",
       "</table>\n",
       "<p>118 rows × 3 columns</p>\n",
       "</div>"
      ],
      "text/plain": [
       "     user_id_1  user_id_2      corr\n",
       "0       102647       7346 -1.000000\n",
       "1        99252      43842 -0.997509\n",
       "2        16795     112001 -0.997406\n",
       "3       201017      99252 -0.994135\n",
       "4        11676     112001 -0.989743\n",
       "..         ...        ...       ...\n",
       "113      11676      59172  0.985136\n",
       "114      55548     187145  1.000000\n",
       "115     236283      30972  1.000000\n",
       "116     260897     231210  1.000000\n",
       "117       7346       8362       NaN\n",
       "\n",
       "[118 rows x 3 columns]"
      ]
     },
     "execution_count": 88,
     "metadata": {},
     "output_type": "execute_result"
    }
   ],
   "source": [
    "# Create a new dataframe named corr_df which will contain the correlations between users.\n",
    "\n",
    "corr_df = final_df.T.corr().unstack().sort_values().drop_duplicates()\n",
    "corr_df = pd.DataFrame(corr_df, columns=[\"corr\"])\n",
    "corr_df.index.names = [\"user_id_1\", \"user_id_2\"]\n",
    "corr_df = corr_df.reset_index()\n",
    "corr_df"
   ]
  },
  {
   "cell_type": "code",
   "execution_count": 89,
   "metadata": {
    "execution": {
     "iopub.execute_input": "2023-07-27T06:00:37.776109Z",
     "iopub.status.busy": "2023-07-27T06:00:37.774889Z",
     "iopub.status.idle": "2023-07-27T06:00:37.790468Z",
     "shell.execute_reply": "2023-07-27T06:00:37.789444Z",
     "shell.execute_reply.started": "2023-07-27T06:00:37.776061Z"
    }
   },
   "outputs": [
    {
     "data": {
      "text/html": [
       "<div>\n",
       "<style scoped>\n",
       "    .dataframe tbody tr th:only-of-type {\n",
       "        vertical-align: middle;\n",
       "    }\n",
       "\n",
       "    .dataframe tbody tr th {\n",
       "        vertical-align: top;\n",
       "    }\n",
       "\n",
       "    .dataframe thead th {\n",
       "        text-align: right;\n",
       "    }\n",
       "</style>\n",
       "<table border=\"1\" class=\"dataframe\">\n",
       "  <thead>\n",
       "    <tr style=\"text-align: right;\">\n",
       "      <th></th>\n",
       "      <th>user_id_2</th>\n",
       "      <th>corr</th>\n",
       "    </tr>\n",
       "  </thead>\n",
       "  <tbody>\n",
       "    <tr>\n",
       "      <th>0</th>\n",
       "      <td>11676</td>\n",
       "      <td>0.534861</td>\n",
       "    </tr>\n",
       "    <tr>\n",
       "      <th>1</th>\n",
       "      <td>231210</td>\n",
       "      <td>0.755929</td>\n",
       "    </tr>\n",
       "    <tr>\n",
       "      <th>2</th>\n",
       "      <td>159033</td>\n",
       "      <td>0.755929</td>\n",
       "    </tr>\n",
       "    <tr>\n",
       "      <th>3</th>\n",
       "      <td>187145</td>\n",
       "      <td>0.755929</td>\n",
       "    </tr>\n",
       "    <tr>\n",
       "      <th>4</th>\n",
       "      <td>105979</td>\n",
       "      <td>0.967868</td>\n",
       "    </tr>\n",
       "  </tbody>\n",
       "</table>\n",
       "</div>"
      ],
      "text/plain": [
       "   user_id_2      corr\n",
       "0      11676  0.534861\n",
       "1     231210  0.755929\n",
       "2     159033  0.755929\n",
       "3     187145  0.755929\n",
       "4     105979  0.967868"
      ]
     },
     "execution_count": 89,
     "metadata": {},
     "output_type": "execute_result"
    }
   ],
   "source": [
    "# Filter users with high correlation (above 0.50) with the selected user and create a new dataframe named top_users.\n",
    "\n",
    "top_users = corr_df[(corr_df[\"user_id_1\"] == random_user) & (corr_df[\"corr\"] > 0.50)][[\"user_id_2\", \"corr\"]].reset_index(drop=True)\n",
    "top_users"
   ]
  },
  {
   "cell_type": "code",
   "execution_count": 90,
   "metadata": {
    "execution": {
     "iopub.execute_input": "2023-07-27T06:00:37.792399Z",
     "iopub.status.busy": "2023-07-27T06:00:37.791737Z",
     "iopub.status.idle": "2023-07-27T06:00:37.811473Z",
     "shell.execute_reply": "2023-07-27T06:00:37.810497Z",
     "shell.execute_reply.started": "2023-07-27T06:00:37.792364Z"
    }
   },
   "outputs": [
    {
     "data": {
      "text/html": [
       "<div>\n",
       "<style scoped>\n",
       "    .dataframe tbody tr th:only-of-type {\n",
       "        vertical-align: middle;\n",
       "    }\n",
       "\n",
       "    .dataframe tbody tr th {\n",
       "        vertical-align: top;\n",
       "    }\n",
       "\n",
       "    .dataframe thead th {\n",
       "        text-align: right;\n",
       "    }\n",
       "</style>\n",
       "<table border=\"1\" class=\"dataframe\">\n",
       "  <thead>\n",
       "    <tr style=\"text-align: right;\">\n",
       "      <th></th>\n",
       "      <th>User-ID</th>\n",
       "      <th>corr</th>\n",
       "    </tr>\n",
       "  </thead>\n",
       "  <tbody>\n",
       "    <tr>\n",
       "      <th>4</th>\n",
       "      <td>105979</td>\n",
       "      <td>0.967868</td>\n",
       "    </tr>\n",
       "    <tr>\n",
       "      <th>3</th>\n",
       "      <td>187145</td>\n",
       "      <td>0.755929</td>\n",
       "    </tr>\n",
       "    <tr>\n",
       "      <th>2</th>\n",
       "      <td>159033</td>\n",
       "      <td>0.755929</td>\n",
       "    </tr>\n",
       "    <tr>\n",
       "      <th>1</th>\n",
       "      <td>231210</td>\n",
       "      <td>0.755929</td>\n",
       "    </tr>\n",
       "    <tr>\n",
       "      <th>0</th>\n",
       "      <td>11676</td>\n",
       "      <td>0.534861</td>\n",
       "    </tr>\n",
       "  </tbody>\n",
       "</table>\n",
       "</div>"
      ],
      "text/plain": [
       "   User-ID      corr\n",
       "4   105979  0.967868\n",
       "3   187145  0.755929\n",
       "2   159033  0.755929\n",
       "1   231210  0.755929\n",
       "0    11676  0.534861"
      ]
     },
     "execution_count": 90,
     "metadata": {},
     "output_type": "execute_result"
    }
   ],
   "source": [
    "top_users = top_users.sort_values(by=\"corr\", ascending=False)\n",
    "top_users.rename(columns={\"user_id_2\": \"User-ID\"}, inplace=True)\n",
    "top_users"
   ]
  },
  {
   "cell_type": "code",
   "execution_count": 91,
   "metadata": {
    "execution": {
     "iopub.execute_input": "2023-07-27T06:00:37.813978Z",
     "iopub.status.busy": "2023-07-27T06:00:37.812757Z",
     "iopub.status.idle": "2023-07-27T06:00:38.735789Z",
     "shell.execute_reply": "2023-07-27T06:00:38.734667Z",
     "shell.execute_reply.started": "2023-07-27T06:00:37.813943Z"
    }
   },
   "outputs": [],
   "source": [
    "# Let's combine the rates given by these similar users with rating.csv and observe.\n",
    "\n",
    "rating = pd.read_csv(r\"C:\\Users\\24Shreyaskumar\\Documents\\Bit Manupilators - Coriolis Hackathon\\ReadEZ\\dataset\\Ratings.csv\")\n",
    "final = top_users.merge(rating[[\"User-ID\", \"ISBN\", \"Book-Rating\"]], how=\"inner\")\n",
    "top_users_ratings = final[final[\"User-ID\"] != random_user]"
   ]
  },
  {
   "cell_type": "markdown",
   "metadata": {},
   "source": [
    "## Calculating the Weighted Average Recommendation Score and Recommending a Book"
   ]
  },
  {
   "cell_type": "code",
   "execution_count": 92,
   "metadata": {
    "execution": {
     "iopub.execute_input": "2023-07-27T06:00:38.737536Z",
     "iopub.status.busy": "2023-07-27T06:00:38.73721Z",
     "iopub.status.idle": "2023-07-27T06:00:38.744823Z",
     "shell.execute_reply": "2023-07-27T06:00:38.743582Z",
     "shell.execute_reply.started": "2023-07-27T06:00:38.737508Z"
    }
   },
   "outputs": [],
   "source": [
    "top_users_ratings[\"weighted_rating\"] = top_users_ratings[\"corr\"] * top_users_ratings[\"Book-Rating\"]\n",
    "\n",
    "# In this way, we have corrected the rating values according to the correlation."
   ]
  },
  {
   "cell_type": "code",
   "execution_count": 93,
   "metadata": {
    "execution": {
     "iopub.execute_input": "2023-07-27T06:00:38.746822Z",
     "iopub.status.busy": "2023-07-27T06:00:38.746518Z",
     "iopub.status.idle": "2023-07-27T06:00:38.799953Z",
     "shell.execute_reply": "2023-07-27T06:00:38.798518Z",
     "shell.execute_reply.started": "2023-07-27T06:00:38.746795Z"
    }
   },
   "outputs": [
    {
     "data": {
      "text/html": [
       "<div>\n",
       "<style scoped>\n",
       "    .dataframe tbody tr th:only-of-type {\n",
       "        vertical-align: middle;\n",
       "    }\n",
       "\n",
       "    .dataframe tbody tr th {\n",
       "        vertical-align: top;\n",
       "    }\n",
       "\n",
       "    .dataframe thead th {\n",
       "        text-align: right;\n",
       "    }\n",
       "</style>\n",
       "<table border=\"1\" class=\"dataframe\">\n",
       "  <thead>\n",
       "    <tr style=\"text-align: right;\">\n",
       "      <th></th>\n",
       "      <th>ISBN</th>\n",
       "      <th>weighted_rating</th>\n",
       "    </tr>\n",
       "  </thead>\n",
       "  <tbody>\n",
       "    <tr>\n",
       "      <th>0</th>\n",
       "      <td>9022906116</td>\n",
       "      <td>3.744025</td>\n",
       "    </tr>\n",
       "    <tr>\n",
       "      <th>1</th>\n",
       "      <td>0 7336 1053 6</td>\n",
       "      <td>0.000000</td>\n",
       "    </tr>\n",
       "    <tr>\n",
       "      <th>2</th>\n",
       "      <td>0000000000</td>\n",
       "      <td>4.813746</td>\n",
       "    </tr>\n",
       "    <tr>\n",
       "      <th>3</th>\n",
       "      <td>00000000000</td>\n",
       "      <td>4.278886</td>\n",
       "    </tr>\n",
       "    <tr>\n",
       "      <th>4</th>\n",
       "      <td>0001055666</td>\n",
       "      <td>4.813746</td>\n",
       "    </tr>\n",
       "  </tbody>\n",
       "</table>\n",
       "</div>"
      ],
      "text/plain": [
       "            ISBN  weighted_rating\n",
       "0     9022906116         3.744025\n",
       "1  0 7336 1053 6         0.000000\n",
       "2     0000000000         4.813746\n",
       "3    00000000000         4.278886\n",
       "4     0001055666         4.813746"
      ]
     },
     "execution_count": 93,
     "metadata": {},
     "output_type": "execute_result"
    }
   ],
   "source": [
    "recommendation_df = top_users_ratings.groupby(\"ISBN\").agg({\"weighted_rating\": \"mean\"})\n",
    "recommendation_df = recommendation_df.reset_index()\n",
    "recommendation_df.head()"
   ]
  },
  {
   "cell_type": "code",
   "execution_count": 94,
   "metadata": {
    "execution": {
     "iopub.execute_input": "2023-07-27T06:00:38.807057Z",
     "iopub.status.busy": "2023-07-27T06:00:38.806665Z",
     "iopub.status.idle": "2023-07-27T06:00:38.815686Z",
     "shell.execute_reply": "2023-07-27T06:00:38.814526Z",
     "shell.execute_reply.started": "2023-07-27T06:00:38.807025Z"
    }
   },
   "outputs": [],
   "source": [
    "books_to_be_recommend = recommendation_df[recommendation_df[\"weighted_rating\"] > 3.7].sort_values(\"weighted_rating\", ascending=False)"
   ]
  },
  {
   "cell_type": "code",
   "execution_count": 95,
   "metadata": {
    "execution": {
     "iopub.execute_input": "2023-07-27T06:00:38.817777Z",
     "iopub.status.busy": "2023-07-27T06:00:38.817448Z",
     "iopub.status.idle": "2023-07-27T06:00:40.90478Z",
     "shell.execute_reply": "2023-07-27T06:00:40.903639Z",
     "shell.execute_reply.started": "2023-07-27T06:00:38.81775Z"
    }
   },
   "outputs": [],
   "source": [
    "book = pd.read_csv(r\"C:\\Users\\24Shreyaskumar\\Documents\\Bit Manupilators - Coriolis Hackathon\\ReadEZ\\dataset\\Books.csv\")\n",
    "recommend = books_to_be_recommend.merge(book[[\"ISBN\", \"Book-Title\"]])\n",
    "recommend = list(recommend[\"Book-Title\"].loc[0:5])"
   ]
  },
  {
   "cell_type": "code",
   "execution_count": 96,
   "metadata": {
    "execution": {
     "iopub.execute_input": "2023-07-27T06:00:40.906866Z",
     "iopub.status.busy": "2023-07-27T06:00:40.906546Z",
     "iopub.status.idle": "2023-07-27T06:00:40.914898Z",
     "shell.execute_reply": "2023-07-27T06:00:40.913341Z",
     "shell.execute_reply.started": "2023-07-27T06:00:40.906838Z"
    }
   },
   "outputs": [
    {
     "data": {
      "text/plain": [
       "['The Illustrated Man',\n",
       " 'This Is the Story of Archibald Frisby: Who Was As Crazy for Science As Any Kid Could Be (Reading Rainbow Book)',\n",
       " 'Tearing the Silence : On Being German in America',\n",
       " 'Something to Declare',\n",
       " 'Fail Safe',\n",
       " 'In the Time of the Butterflies']"
      ]
     },
     "execution_count": 96,
     "metadata": {},
     "output_type": "execute_result"
    }
   ],
   "source": [
    "recommend"
   ]
  },
  {
   "cell_type": "markdown",
   "metadata": {},
   "source": [
    "We recommended 6 movies to our randomly selected user using the user-based recommendation system."
   ]
  },
  {
   "attachments": {
    "96394900-cef2-45cd-8240-bd8c983c903c.jpg": {
     "image/jpeg": "[encoded data removed]"
    }
   },
   "cell_type": "markdown",
   "metadata": {},
   "source": [
    "![book2.jpg](attachment:96394900-cef2-45cd-8240-bd8c983c903c.jpg)"
   ]
  },
  {
   "cell_type": "markdown",
   "metadata": {},
   "source": [
    "# Item Based Recommendation"
   ]
  },
  {
   "cell_type": "markdown",
   "metadata": {},
   "source": [
    "### Loading the Dataset"
   ]
  },
  {
   "cell_type": "code",
   "execution_count": 36,
   "metadata": {
    "execution": {
     "iopub.execute_input": "2023-07-27T06:00:40.917241Z",
     "iopub.status.busy": "2023-07-27T06:00:40.916388Z",
     "iopub.status.idle": "2023-07-27T06:00:43.667331Z",
     "shell.execute_reply": "2023-07-27T06:00:43.666031Z",
     "shell.execute_reply.started": "2023-07-27T06:00:40.917208Z"
    }
   },
   "outputs": [],
   "source": [
    "books = pd.read_csv(r\"C:\\Users\\24Shreyaskumar\\Documents\\Bit Manupilators - Coriolis Hackathon\\ReadEZ\\dataset\\Books.csv\", on_bad_lines = 'skip')\n",
    "rating = pd.read_csv(r\"C:\\Users\\24Shreyaskumar\\Documents\\Bit Manupilators - Coriolis Hackathon\\ReadEZ\\dataset\\Ratings.csv\")"
   ]
  },
  {
   "cell_type": "markdown",
   "metadata": {},
   "source": [
    "### Get the ISBN of the book with the most recent rating from the user's book that received a rating of 9."
   ]
  },
  {
   "cell_type": "code",
   "execution_count": 53,
   "metadata": {
    "execution": {
     "iopub.execute_input": "2023-07-27T06:00:43.669449Z",
     "iopub.status.busy": "2023-07-27T06:00:43.669095Z",
     "iopub.status.idle": "2023-07-27T06:00:43.67577Z",
     "shell.execute_reply": "2023-07-27T06:00:43.674225Z",
     "shell.execute_reply.started": "2023-07-27T06:00:43.669419Z"
    }
   },
   "outputs": [],
   "source": [
    "random_user = 99"
   ]
  },
  {
   "cell_type": "code",
   "execution_count": 54,
   "metadata": {
    "execution": {
     "iopub.execute_input": "2023-07-27T06:00:43.6778Z",
     "iopub.status.busy": "2023-07-27T06:00:43.677417Z",
     "iopub.status.idle": "2023-07-27T06:00:43.699397Z",
     "shell.execute_reply": "2023-07-27T06:00:43.697933Z",
     "shell.execute_reply.started": "2023-07-27T06:00:43.677767Z"
    }
   },
   "outputs": [
    {
     "data": {
      "text/plain": [
       "'0553347594'"
      ]
     },
     "execution_count": 54,
     "metadata": {},
     "output_type": "execute_result"
    }
   ],
   "source": [
    "book_id = rating[(rating[\"User-ID\"] == random_user) & (rating[\"Book-Rating\"] == 9)].iloc[0][1]\n",
    "book_id"
   ]
  },
  {
   "cell_type": "code",
   "execution_count": 55,
   "metadata": {
    "execution": {
     "iopub.execute_input": "2023-07-27T06:00:43.701429Z",
     "iopub.status.busy": "2023-07-27T06:00:43.701029Z",
     "iopub.status.idle": "2023-07-27T06:00:43.769706Z",
     "shell.execute_reply": "2023-07-27T06:00:43.768374Z",
     "shell.execute_reply.started": "2023-07-27T06:00:43.701398Z"
    }
   },
   "outputs": [
    {
     "data": {
      "text/html": [
       "<div>\n",
       "<style scoped>\n",
       "    .dataframe tbody tr th:only-of-type {\n",
       "        vertical-align: middle;\n",
       "    }\n",
       "\n",
       "    .dataframe tbody tr th {\n",
       "        vertical-align: top;\n",
       "    }\n",
       "\n",
       "    .dataframe thead th {\n",
       "        text-align: right;\n",
       "    }\n",
       "</style>\n",
       "<table border=\"1\" class=\"dataframe\">\n",
       "  <thead>\n",
       "    <tr style=\"text-align: right;\">\n",
       "      <th></th>\n",
       "      <th>ISBN</th>\n",
       "      <th>Book-Title</th>\n",
       "      <th>Book-Author</th>\n",
       "      <th>Year-Of-Publication</th>\n",
       "      <th>Publisher</th>\n",
       "      <th>Image-URL-S</th>\n",
       "      <th>Image-URL-M</th>\n",
       "      <th>Image-URL-L</th>\n",
       "    </tr>\n",
       "  </thead>\n",
       "  <tbody>\n",
       "    <tr>\n",
       "      <th>103</th>\n",
       "      <td>0553347594</td>\n",
       "      <td>McDonald's: Behind the Arches</td>\n",
       "      <td>John F. Love</td>\n",
       "      <td>1995</td>\n",
       "      <td>Bantam</td>\n",
       "      <td>http://images.amazon.com/images/P/0553347594.0...</td>\n",
       "      <td>http://images.amazon.com/images/P/0553347594.0...</td>\n",
       "      <td>http://images.amazon.com/images/P/0553347594.0...</td>\n",
       "    </tr>\n",
       "  </tbody>\n",
       "</table>\n",
       "</div>"
      ],
      "text/plain": [
       "           ISBN                     Book-Title   Book-Author Year-Of-Publication Publisher                                        Image-URL-S                                        Image-URL-M                                        Image-URL-L\n",
       "103  0553347594  McDonald's: Behind the Arches  John F. Love                1995    Bantam  http://images.amazon.com/images/P/0553347594.0...  http://images.amazon.com/images/P/0553347594.0...  http://images.amazon.com/images/P/0553347594.0..."
      ]
     },
     "execution_count": 55,
     "metadata": {},
     "output_type": "execute_result"
    }
   ],
   "source": [
    "book[book[\"ISBN\"] == book_id]"
   ]
  },
  {
   "cell_type": "code",
   "execution_count": 97,
   "metadata": {
    "execution": {
     "iopub.execute_input": "2023-07-27T06:00:43.772111Z",
     "iopub.status.busy": "2023-07-27T06:00:43.771222Z",
     "iopub.status.idle": "2023-07-27T06:00:43.778216Z",
     "shell.execute_reply": "2023-07-27T06:00:43.776846Z",
     "shell.execute_reply.started": "2023-07-27T06:00:43.772076Z"
    }
   },
   "outputs": [
    {
     "ename": "KeyError",
     "evalue": "\"McDonald's: Behind the Arches\"",
     "output_type": "error",
     "traceback": [
      "\u001b[1;31m---------------------------------------------------------------------------\u001b[0m",
      "\u001b[1;31mKeyError\u001b[0m                                  Traceback (most recent call last)",
      "File \u001b[1;32m~\\anaconda3\\lib\\site-packages\\pandas\\core\\indexes\\base.py:3621\u001b[0m, in \u001b[0;36mIndex.get_loc\u001b[1;34m(self, key, method, tolerance)\u001b[0m\n\u001b[0;32m   3620\u001b[0m \u001b[38;5;28;01mtry\u001b[39;00m:\n\u001b[1;32m-> 3621\u001b[0m     \u001b[38;5;28;01mreturn\u001b[39;00m \u001b[38;5;28;43mself\u001b[39;49m\u001b[38;5;241;43m.\u001b[39;49m\u001b[43m_engine\u001b[49m\u001b[38;5;241;43m.\u001b[39;49m\u001b[43mget_loc\u001b[49m\u001b[43m(\u001b[49m\u001b[43mcasted_key\u001b[49m\u001b[43m)\u001b[49m\n\u001b[0;32m   3622\u001b[0m \u001b[38;5;28;01mexcept\u001b[39;00m \u001b[38;5;167;01mKeyError\u001b[39;00m \u001b[38;5;28;01mas\u001b[39;00m err:\n",
      "File \u001b[1;32m~\\anaconda3\\lib\\site-packages\\pandas\\_libs\\index.pyx:136\u001b[0m, in \u001b[0;36mpandas._libs.index.IndexEngine.get_loc\u001b[1;34m()\u001b[0m\n",
      "File \u001b[1;32m~\\anaconda3\\lib\\site-packages\\pandas\\_libs\\index.pyx:163\u001b[0m, in \u001b[0;36mpandas._libs.index.IndexEngine.get_loc\u001b[1;34m()\u001b[0m\n",
      "File \u001b[1;32mpandas\\_libs\\hashtable_class_helper.pxi:5198\u001b[0m, in \u001b[0;36mpandas._libs.hashtable.PyObjectHashTable.get_item\u001b[1;34m()\u001b[0m\n",
      "File \u001b[1;32mpandas\\_libs\\hashtable_class_helper.pxi:5206\u001b[0m, in \u001b[0;36mpandas._libs.hashtable.PyObjectHashTable.get_item\u001b[1;34m()\u001b[0m\n",
      "\u001b[1;31mKeyError\u001b[0m: \"McDonald's: Behind the Arches\"",
      "\nThe above exception was the direct cause of the following exception:\n",
      "\u001b[1;31mKeyError\u001b[0m                                  Traceback (most recent call last)",
      "Input \u001b[1;32mIn [97]\u001b[0m, in \u001b[0;36m<cell line: 2>\u001b[1;34m()\u001b[0m\n\u001b[0;32m      1\u001b[0m book_name \u001b[38;5;241m=\u001b[39m \u001b[38;5;124m\"\u001b[39m\u001b[38;5;124mMcDonald\u001b[39m\u001b[38;5;124m'\u001b[39m\u001b[38;5;124ms: Behind the Arches\u001b[39m\u001b[38;5;124m\"\u001b[39m\n\u001b[1;32m----> 2\u001b[0m book_name \u001b[38;5;241m=\u001b[39m \u001b[43muser_books_df\u001b[49m\u001b[43m[\u001b[49m\u001b[43mbook_name\u001b[49m\u001b[43m]\u001b[49m\n",
      "File \u001b[1;32m~\\anaconda3\\lib\\site-packages\\pandas\\core\\frame.py:3505\u001b[0m, in \u001b[0;36mDataFrame.__getitem__\u001b[1;34m(self, key)\u001b[0m\n\u001b[0;32m   3503\u001b[0m \u001b[38;5;28;01mif\u001b[39;00m \u001b[38;5;28mself\u001b[39m\u001b[38;5;241m.\u001b[39mcolumns\u001b[38;5;241m.\u001b[39mnlevels \u001b[38;5;241m>\u001b[39m \u001b[38;5;241m1\u001b[39m:\n\u001b[0;32m   3504\u001b[0m     \u001b[38;5;28;01mreturn\u001b[39;00m \u001b[38;5;28mself\u001b[39m\u001b[38;5;241m.\u001b[39m_getitem_multilevel(key)\n\u001b[1;32m-> 3505\u001b[0m indexer \u001b[38;5;241m=\u001b[39m \u001b[38;5;28;43mself\u001b[39;49m\u001b[38;5;241;43m.\u001b[39;49m\u001b[43mcolumns\u001b[49m\u001b[38;5;241;43m.\u001b[39;49m\u001b[43mget_loc\u001b[49m\u001b[43m(\u001b[49m\u001b[43mkey\u001b[49m\u001b[43m)\u001b[49m\n\u001b[0;32m   3506\u001b[0m \u001b[38;5;28;01mif\u001b[39;00m is_integer(indexer):\n\u001b[0;32m   3507\u001b[0m     indexer \u001b[38;5;241m=\u001b[39m [indexer]\n",
      "File \u001b[1;32m~\\anaconda3\\lib\\site-packages\\pandas\\core\\indexes\\base.py:3623\u001b[0m, in \u001b[0;36mIndex.get_loc\u001b[1;34m(self, key, method, tolerance)\u001b[0m\n\u001b[0;32m   3621\u001b[0m     \u001b[38;5;28;01mreturn\u001b[39;00m \u001b[38;5;28mself\u001b[39m\u001b[38;5;241m.\u001b[39m_engine\u001b[38;5;241m.\u001b[39mget_loc(casted_key)\n\u001b[0;32m   3622\u001b[0m \u001b[38;5;28;01mexcept\u001b[39;00m \u001b[38;5;167;01mKeyError\u001b[39;00m \u001b[38;5;28;01mas\u001b[39;00m err:\n\u001b[1;32m-> 3623\u001b[0m     \u001b[38;5;28;01mraise\u001b[39;00m \u001b[38;5;167;01mKeyError\u001b[39;00m(key) \u001b[38;5;28;01mfrom\u001b[39;00m \u001b[38;5;21;01merr\u001b[39;00m\n\u001b[0;32m   3624\u001b[0m \u001b[38;5;28;01mexcept\u001b[39;00m \u001b[38;5;167;01mTypeError\u001b[39;00m:\n\u001b[0;32m   3625\u001b[0m     \u001b[38;5;66;03m# If we have a listlike key, _check_indexing_error will raise\u001b[39;00m\n\u001b[0;32m   3626\u001b[0m     \u001b[38;5;66;03m#  InvalidIndexError. Otherwise we fall through and re-raise\u001b[39;00m\n\u001b[0;32m   3627\u001b[0m     \u001b[38;5;66;03m#  the TypeError.\u001b[39;00m\n\u001b[0;32m   3628\u001b[0m     \u001b[38;5;28mself\u001b[39m\u001b[38;5;241m.\u001b[39m_check_indexing_error(key)\n",
      "\u001b[1;31mKeyError\u001b[0m: \"McDonald's: Behind the Arches\""
     ]
    }
   ],
   "source": [
    "book_name = \"McDonald's: Behind the Arches\"\n",
    "book_name = user_books_df[book_name]"
   ]
  },
  {
   "cell_type": "code",
   "execution_count": 98,
   "metadata": {
    "execution": {
     "iopub.execute_input": "2023-07-27T06:00:43.780586Z",
     "iopub.status.busy": "2023-07-27T06:00:43.779677Z",
     "iopub.status.idle": "2023-07-27T06:00:44.158086Z",
     "shell.execute_reply": "2023-07-27T06:00:44.156437Z",
     "shell.execute_reply.started": "2023-07-27T06:00:43.780551Z"
    }
   },
   "outputs": [
    {
     "ename": "AttributeError",
     "evalue": "'str' object has no attribute '_get_numeric_data'",
     "output_type": "error",
     "traceback": [
      "\u001b[1;31m---------------------------------------------------------------------------\u001b[0m",
      "\u001b[1;31mAttributeError\u001b[0m                            Traceback (most recent call last)",
      "Input \u001b[1;32mIn [98]\u001b[0m, in \u001b[0;36m<cell line: 1>\u001b[1;34m()\u001b[0m\n\u001b[1;32m----> 1\u001b[0m recommend_book \u001b[38;5;241m=\u001b[39m \u001b[43muser_books_df\u001b[49m\u001b[38;5;241;43m.\u001b[39;49m\u001b[43mcorrwith\u001b[49m\u001b[43m(\u001b[49m\u001b[43mbook_name\u001b[49m\u001b[43m)\u001b[49m\u001b[38;5;241m.\u001b[39msort_values(ascending\u001b[38;5;241m=\u001b[39m\u001b[38;5;28;01mFalse\u001b[39;00m)\n",
      "File \u001b[1;32m~\\anaconda3\\lib\\site-packages\\pandas\\core\\frame.py:9728\u001b[0m, in \u001b[0;36mDataFrame.corrwith\u001b[1;34m(self, other, axis, drop, method)\u001b[0m\n\u001b[0;32m   9725\u001b[0m \u001b[38;5;28;01mif\u001b[39;00m \u001b[38;5;28misinstance\u001b[39m(other, Series):\n\u001b[0;32m   9726\u001b[0m     \u001b[38;5;28;01mreturn\u001b[39;00m this\u001b[38;5;241m.\u001b[39mapply(\u001b[38;5;28;01mlambda\u001b[39;00m x: other\u001b[38;5;241m.\u001b[39mcorr(x, method\u001b[38;5;241m=\u001b[39mmethod), axis\u001b[38;5;241m=\u001b[39maxis)\n\u001b[1;32m-> 9728\u001b[0m other \u001b[38;5;241m=\u001b[39m \u001b[43mother\u001b[49m\u001b[38;5;241;43m.\u001b[39;49m\u001b[43m_get_numeric_data\u001b[49m()\n\u001b[0;32m   9729\u001b[0m left, right \u001b[38;5;241m=\u001b[39m this\u001b[38;5;241m.\u001b[39malign(other, join\u001b[38;5;241m=\u001b[39m\u001b[38;5;124m\"\u001b[39m\u001b[38;5;124minner\u001b[39m\u001b[38;5;124m\"\u001b[39m, copy\u001b[38;5;241m=\u001b[39m\u001b[38;5;28;01mFalse\u001b[39;00m)\n\u001b[0;32m   9731\u001b[0m \u001b[38;5;28;01mif\u001b[39;00m axis \u001b[38;5;241m==\u001b[39m \u001b[38;5;241m1\u001b[39m:\n",
      "\u001b[1;31mAttributeError\u001b[0m: 'str' object has no attribute '_get_numeric_data'"
     ]
    }
   ],
   "source": [
    "recommend_book = user_books_df.corrwith(book_name).sort_values(ascending=False)"
   ]
  },
  {
   "cell_type": "code",
   "execution_count": 100,
   "metadata": {
    "execution": {
     "iopub.execute_input": "2023-07-27T06:00:44.163432Z",
     "iopub.status.busy": "2023-07-27T06:00:44.162963Z",
     "iopub.status.idle": "2023-07-27T06:00:44.177175Z",
     "shell.execute_reply": "2023-07-27T06:00:44.175749Z",
     "shell.execute_reply.started": "2023-07-27T06:00:44.163398Z"
    }
   },
   "outputs": [
    {
     "data": {
      "text/plain": [
       "['The Heart of a Woman',\n",
       " \"Galileo's Daughter: A Historical Memoir of Science, Faith, and Love\",\n",
       " \"It's Not About the Bike: My Journey Back to Life\",\n",
       " 'Whispers',\n",
       " 'A Civil Action']"
      ]
     },
     "execution_count": 100,
     "metadata": {},
     "output_type": "execute_result"
    }
   ],
   "source": [
    "recommend = recommend_book.reset_index()\n",
    "recommend.columns = [\"book_name\", \"corr\"]\n",
    "recommend = list(recommend.loc[1:5, \"book_name\"])\n",
    "recommend"
   ]
  },
  {
   "cell_type": "code",
   "execution_count": null,
   "metadata": {},
   "outputs": [],
   "source": []
  },
  {
   "cell_type": "code",
   "execution_count": null,
   "metadata": {},
   "outputs": [],
   "source": []
  }
 ],
 "metadata": {
  "kernelspec": {
   "display_name": "Python 3 (ipykernel)",
   "language": "python",
   "name": "python3"
  },
  "language_info": {
   "codemirror_mode": {
    "name": "ipython",
    "version": 3
   },
   "file_extension": ".py",
   "mimetype": "text/x-python",
   "name": "python",
   "nbconvert_exporter": "python",
   "pygments_lexer": "ipython3",
   "version": "3.9.12"
  }
 },
 "nbformat": 4,
 "nbformat_minor": 4
}
