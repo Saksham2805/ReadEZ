{
 "cells": [
  {
   "cell_type": "code",
   "execution_count": 81,
   "metadata": {},
   "outputs": [],
   "source": [
    "# importing modules\n",
    "import os # for reading data\n",
    "import fitz # for conversion of pdf to text"
   ]
  },
  {
   "cell_type": "code",
   "execution_count": 82,
   "metadata": {},
   "outputs": [],
   "source": [
    "# default directories for reading\n",
    "books_dir = 'books/'\n",
    "podcasts_dir = 'podcasts/'"
   ]
  },
  {
   "cell_type": "code",
   "execution_count": 83,
   "metadata": {},
   "outputs": [],
   "source": [
    "# function to read file\n",
    "def read_pdf(name):\n",
    "    \"\"\"\n",
    "    Function to read text data from the given pdf file\n",
    "    Returns the data in form of dictionary:\n",
    "    key->pg no  value-> text on that page\n",
    "    \"\"\"\n",
    "    # text storage\n",
    "    data = {}\n",
    "    # check if the file is present in the directory\n",
    "    try:\n",
    "        file_path = os.path.join(books_dir, name)\n",
    "        # if it exists\n",
    "        if os.path.exists(file_path):\n",
    "            # we read the data\n",
    "            with fitz.open(file_path) as pdf_doc:\n",
    "                for page_num in range(pdf_doc.page_count):\n",
    "                    text = pdf_doc.load_page(page_num).get_text()\n",
    "                    if text:\n",
    "                        data[page_num+1] = text\n",
    "        else:\n",
    "            print(f\"The file '{name}' does not exist in the directory '{books_dir}'.\")\n",
    "    except Exception as e:\n",
    "        print(f\"An error occured:{e}\")\n",
    "    finally:\n",
    "        return data"
   ]
  },
  {
   "cell_type": "markdown",
   "metadata": {},
   "source": [
    "### Reading file from path ###"
   ]
  },
  {
   "cell_type": "code",
   "execution_count": 84,
   "metadata": {},
   "outputs": [],
   "source": [
    "# reading files\n",
    "file_name = \"1. Harry Potter and the Sorcerers Stone.pdf\"\n",
    "# reading data from the file\n",
    "data = read_pdf(file_name)"
   ]
  },
  {
   "cell_type": "code",
   "execution_count": 85,
   "metadata": {},
   "outputs": [
    {
     "name": "stdout",
     "output_type": "stream",
     "text": [
      "0 1\n",
      "Harry Potter and the Sorcerer's Stone\n",
      "CHAPTER ONE\n",
      "THE BOY WHO LIVED\n",
      "Mr. and Mrs. Dursley, of number four, Privet Drive, were proud to say\n",
      "that they were perfectly normal, thank you very much. They were the last\n",
      "people you'd expect to be involved in anything strange or mysterious,\n",
      "because they just didn't hold with such nonsense.\n",
      "Mr. Dursley was the director of a firm called Grunnings, which made\n",
      "drills. He was a big, beefy man with hardly any neck, although he did\n",
      "have a very large mustache. Mrs. Dursley was thin and blonde and had\n",
      "nearly twice the usual amount of neck, which came in very useful as she\n",
      "spent so much of her time craning over garden fences, spying on the\n",
      "neighbors. The Dursleys had a small son called Dudley and in their\n",
      "opinion there was no finer boy anywhere.\n",
      "The Dursleys had everything they wanted, but they also had a secret, and\n",
      "their greatest fear was that somebody would discover it. They didn't\n",
      "think they could bear it if anyone found out about the Potters. Mrs.\n",
      "Potter was Mrs. Dursley's sister, but they hadn't met for several years;\n",
      "in fact, Mrs. Dursley pretended she didn't have a sister, because her\n",
      "sister and her good-for-nothing husband were as unDursleyish as it was\n",
      "possible to be. The Dursleys shuddered to think what the neighbors would\n",
      "say if the Potters arrived in the street. The Dursleys knew that the\n",
      "Potters had a small son, too, but they had never even seen him. This boy\n",
      "was another good reason for keeping the Potters away; they didn't want\n",
      "Dudley mixing with a child like that.\n",
      "When Mr. and Mrs. Dursley woke up on the dull, gray Tuesday our story\n",
      "starts, there was nothing about the cloudy sky outside to suggest that\n",
      "strange and mysterious things would soon be happening all over the\n",
      "country. Mr. Dursley hummed as he picked out his most boring tie for\n",
      "work, and Mrs. Dursley gossiped away happily as she wrestled a screaming\n",
      "Dudley into his high chair.\n",
      "None of them noticed a large, tawny owl flutter past the window.\n",
      "At half past eight, Mr. Dursley picked up his briefcase, pecked Mrs.\n",
      "Dursley on the cheek, and tried to kiss Dudley good-bye but missed,\n",
      "\n",
      "1 2\n",
      "because Dudley was now having a tantrum and throwing his cereal at the\n",
      "walls. \"Little tyke,\" chortled Mr. Dursley as he left the house. He got\n",
      "into his car and backed out of number four's drive.\n",
      "It was on the corner of the street that he noticed the first sign of\n",
      "something peculiar -- a cat reading a map. For a second, Mr. Dursley\n",
      "didn't realize what he had seen -- then he jerked his head around to\n",
      "look again. There was a tabby cat standing on the corner of Privet\n",
      "Drive, but there wasn't a map in sight. What could he have been thinking\n",
      "of? It must have been a trick of the light. Mr. Dursley blinked and\n",
      "stared at the cat. It stared back. As Mr. Dursley drove around the\n",
      "corner and up the road, he watched the cat in his mirror. It was now\n",
      "reading the sign that said Privet Drive -- no, looking at the sign; cats\n",
      "couldn't read maps or signs. Mr. Dursley gave himself a little shake and\n",
      "put the cat out of his mind. As he drove toward town he thought of\n",
      "nothing except a large order of drills he was hoping to get that day.\n",
      "But on the edge of town, drills were driven out of his mind by something\n",
      "else. As he sat in the usual morning traffic jam, he couldn't help\n",
      "noticing that there seemed to be a lot of strangely dressed people\n",
      "about. People in cloaks. Mr. Dursley couldn't bear people who dressed in\n",
      "funny clothes -- the getups you saw on young people! He supposed this\n",
      "was some stupid new fashion. He drummed his fingers on the steering\n",
      "wheel and his eyes fell on a huddle of these weirdos standing quite\n",
      "close by. They were whispering excitedly together. Mr. Dursley was\n",
      "enraged to see that a couple of them weren't young at all; why, that man\n",
      "had to be older than he was, and wearing an emerald-green cloak! The\n",
      "nerve of him! But then it struck Mr. Dursley that this was probably some\n",
      "silly stunt -- these people were obviously collecting for something...\n",
      "yes, that would be it. The traffic moved on and a few minutes later, Mr.\n",
      "Dursley arrived in the Grunnings parking lot, his mind back on drills.\n",
      "Mr. Dursley always sat with his back to the window in his office on the\n",
      "ninth floor. If he hadn't, he might have found it harder to concentrate\n",
      "on drills that morning. He didn't see the owls swoop ing past in broad\n",
      "daylight, though people down in the street did; they pointed and gazed\n",
      "open- mouthed as owl after owl sped overhead. Most of them had never\n",
      "seen an owl even at nighttime. Mr. Dursley, however, had a perfectly\n",
      "normal, owl-free morning. He yelled at five different people. He made\n",
      "several important telephone calls and shouted a bit more. He was in a\n",
      "very good mood until lunchtime, when he thought he'd stretch his legs\n",
      "and walk across the road to buy himself a bun from the bakery.\n",
      "\n",
      "2 3\n",
      "He'd forgotten all about the people in cloaks until he passed a group of\n",
      "them next to the baker's. He eyed them angrily as he passed. He didn't\n",
      "know why, but they made him uneasy. This bunch were whispering\n",
      "excitedly, too, and he couldn't see a single collecting tin. It was on\n",
      "his way back past them, clutching a large doughnut in a bag, that he\n",
      "caught a few words of what they were saying.\n",
      "\"The Potters, that's right, that's what I heard yes, their son, Harry\"\n",
      "Mr. Dursley stopped dead. Fear flooded him. He looked back at the\n",
      "whisperers as if he wanted to say something to them, but thought better\n",
      "of it.\n",
      "He dashed back across the road, hurried up to his office, snapped at his\n",
      "secretary not to disturb him, seized his telephone, and had almost\n",
      "finished dialing his home number when he changed his mind. He put the\n",
      "receiver back down and stroked his mustache, thinking... no, he was\n",
      "being stupid. Potter wasn't such an unusual name. He was sure there were\n",
      "lots of people called Potter who had a son called Harry. Come to think\n",
      "of it, he wasn't even sure his nephew was called Harry. He'd never even\n",
      "seen the boy. It might have been Harvey. Or Harold. There was no point\n",
      "in worrying Mrs. Dursley; she always got so upset at any mention of her\n",
      "sister. He didn't blame her -- if he'd had a sister like that... but all\n",
      "the same, those people in cloaks...\n",
      "He found it a lot harder to concentrate on drills that afternoon and\n",
      "when he left the building at five o'clock, he was still so worried that\n",
      "he walked straight into someone just outside the door.\n",
      "\"Sorry,\" he grunted, as the tiny old man stumbled and almost fell. It\n",
      "was a few seconds before Mr. Dursley realized that the man was wearing a\n",
      "violet cloak. He didn't seem at all upset at being almost knocked to the\n",
      "ground. On the contrary, his face split into a wide smile and he said in\n",
      "a squeaky voice that made passersby stare, \"Don't be sorry, my dear sir,\n",
      "for nothing could upset me today! Rejoice, for You-Know-Who has gone at\n",
      "last! Even Muggles like yourself should be celebrating, this happy,\n",
      "happy day!\"\n",
      "And the old man hugged Mr. Dursley around the middle and walked off.\n",
      "Mr. Dursley stood rooted to the spot. He had been hugged by a complete\n",
      "stranger. He also thought he had been called a Muggle, whatever that\n",
      "was. He was rattled. He hurried to his car and set off for home, hoping\n",
      "\n"
     ]
    }
   ],
   "source": [
    "i = 0\n",
    "for x, y in enumerate(data):\n",
    "    print(x, data[y])\n",
    "    if i == 2:\n",
    "        break\n",
    "    i += 1"
   ]
  },
  {
   "cell_type": "markdown",
   "metadata": {},
   "source": [
    "### Taking page numbers as input for the summary generation ###"
   ]
  },
  {
   "cell_type": "code",
   "execution_count": 86,
   "metadata": {},
   "outputs": [],
   "source": [
    "from_page = int(input())\n",
    "to_page = int(input())"
   ]
  },
  {
   "cell_type": "code",
   "execution_count": 87,
   "metadata": {},
   "outputs": [],
   "source": [
    "text = \"\"\n",
    "for x, y in enumerate(data):\n",
    "    if from_page<=x+1<=to_page:\n",
    "        text += data[y][1:]+\" \""
   ]
  },
  {
   "cell_type": "code",
   "execution_count": 88,
   "metadata": {},
   "outputs": [
    {
     "name": "stdout",
     "output_type": "stream",
     "text": [
      "\n",
      "Harry Potter and the Sorcerer's Stone\n",
      "CHAPTER ONE\n",
      "THE BOY WHO LIVED\n",
      "Mr. and Mrs. Dursley, of number four, Privet Drive, were proud to say\n",
      "that they were perfectly normal, thank you very much. They were the last\n",
      "people you'd expect to be involved in anything strange or mysterious,\n",
      "because they just didn't hold with such nonsense.\n",
      "Mr. Dursley was the director of a firm called Grunnings, which made\n",
      "drills. He was a big, beefy man with hardly any neck, although he did\n",
      "have a very large mustache. Mrs. Dursley was thin and blonde and had\n",
      "nearly twice the usual amount of neck, which came in very useful as she\n",
      "spent so much of her time craning over garden fences, spying on the\n",
      "neighbors. The Dursleys had a small son called Dudley and in their\n",
      "opinion there was no finer boy anywhere.\n",
      "The Dursleys had everything they wanted, but they also had a secret, and\n",
      "their greatest fear was that somebody would discover it. They didn't\n",
      "think they could bear it if anyone found out about the Potters. Mrs.\n",
      "Potter was Mrs. Dursley's sister, but they hadn't met for several years;\n",
      "in fact, Mrs. Dursley pretended she didn't have a sister, because her\n",
      "sister and her good-for-nothing husband were as unDursleyish as it was\n",
      "possible to be. The Dursleys shuddered to think what the neighbors would\n",
      "say if the Potters arrived in the street. The Dursleys knew that the\n",
      "Potters had a small son, too, but they had never even seen him. This boy\n",
      "was another good reason for keeping the Potters away; they didn't want\n",
      "Dudley mixing with a child like that.\n",
      "When Mr. and Mrs. Dursley woke up on the dull, gray Tuesday our story\n",
      "starts, there was nothing about the cloudy sky outside to suggest that\n",
      "strange and mysterious things would soon be happening all over the\n",
      "country. Mr. Dursley hummed as he picked out his most boring tie for\n",
      "work, and Mrs. Dursley gossiped away happily as she wrestled a screaming\n",
      "Dudley into his high chair.\n",
      "None of them noticed a large, tawny owl flutter past the window.\n",
      "At half past eight, Mr. Dursley picked up his briefcase, pecked Mrs.\n",
      "Dursley on the cheek, and tried to kiss Dudley good-bye but missed,\n",
      " \n",
      "because Dudley was now having a tantrum and throwing his cereal at the\n",
      "walls. \"Little tyke,\" chortled Mr. Dursley as he left the house. He got\n",
      "into his car and backed out of number four's drive.\n",
      "It was on the corner of the street that he noticed the first sign of\n",
      "something peculiar -- a cat reading a map. For a second, Mr. Dursley\n",
      "didn't realize what he had seen -- then he jerked his head around to\n",
      "look again. There was a tabby cat standing on the corner of Privet\n",
      "Drive, but there wasn't a map in sight. What could he have been thinking\n",
      "of? It must have been a trick of the light. Mr. Dursley blinked and\n",
      "stared at the cat. It stared back. As Mr. Dursley drove around the\n",
      "corner and up the road, he watched the cat in his mirror. It was now\n",
      "reading the sign that said Privet Drive -- no, looking at the sign; cats\n",
      "couldn't read maps or signs. Mr. Dursley gave himself a little shake and\n",
      "put the cat out of his mind. As he drove toward town he thought of\n",
      "nothing except a large order of drills he was hoping to get that day.\n",
      "But on the edge of town, drills were driven out of his mind by something\n",
      "else. As he sat in the usual morning traffic jam, he couldn't help\n",
      "noticing that there seemed to be a lot of strangely dressed people\n",
      "about. People in cloaks. Mr. Dursley couldn't bear people who dressed in\n",
      "funny clothes -- the getups you saw on young people! He supposed this\n",
      "was some stupid new fashion. He drummed his fingers on the steering\n",
      "wheel and his eyes fell on a huddle of these weirdos standing quite\n",
      "close by. They were whispering excitedly together. Mr. Dursley was\n",
      "enraged to see that a couple of them weren't young at all; why, that man\n",
      "had to be older than he was, and wearing an emerald-green cloak! The\n",
      "nerve of him! But then it struck Mr. Dursley that this was probably some\n",
      "silly stunt -- these people were obviously collecting for something...\n",
      "yes, that would be it. The traffic moved on and a few minutes later, Mr.\n",
      "Dursley arrived in the Grunnings parking lot, his mind back on drills.\n",
      "Mr. Dursley always sat with his back to the window in his office on the\n",
      "ninth floor. If he hadn't, he might have found it harder to concentrate\n",
      "on drills that morning. He didn't see the owls swoop ing past in broad\n",
      "daylight, though people down in the street did; they pointed and gazed\n",
      "open- mouthed as owl after owl sped overhead. Most of them had never\n",
      "seen an owl even at nighttime. Mr. Dursley, however, had a perfectly\n",
      "normal, owl-free morning. He yelled at five different people. He made\n",
      "several important telephone calls and shouted a bit more. He was in a\n",
      "very good mood until lunchtime, when he thought he'd stretch his legs\n",
      "and walk across the road to buy himself a bun from the bakery.\n",
      " \n",
      "He'd forgotten all about the people in cloaks until he passed a group of\n",
      "them next to the baker's. He eyed them angrily as he passed. He didn't\n",
      "know why, but they made him uneasy. This bunch were whispering\n",
      "excitedly, too, and he couldn't see a single collecting tin. It was on\n",
      "his way back past them, clutching a large doughnut in a bag, that he\n",
      "caught a few words of what they were saying.\n",
      "\"The Potters, that's right, that's what I heard yes, their son, Harry\"\n",
      "Mr. Dursley stopped dead. Fear flooded him. He looked back at the\n",
      "whisperers as if he wanted to say something to them, but thought better\n",
      "of it.\n",
      "He dashed back across the road, hurried up to his office, snapped at his\n",
      "secretary not to disturb him, seized his telephone, and had almost\n",
      "finished dialing his home number when he changed his mind. He put the\n",
      "receiver back down and stroked his mustache, thinking... no, he was\n",
      "being stupid. Potter wasn't such an unusual name. He was sure there were\n",
      "lots of people called Potter who had a son called Harry. Come to think\n",
      "of it, he wasn't even sure his nephew was called Harry. He'd never even\n",
      "seen the boy. It might have been Harvey. Or Harold. There was no point\n",
      "in worrying Mrs. Dursley; she always got so upset at any mention of her\n",
      "sister. He didn't blame her -- if he'd had a sister like that... but all\n",
      "the same, those people in cloaks...\n",
      "He found it a lot harder to concentrate on drills that afternoon and\n",
      "when he left the building at five o'clock, he was still so worried that\n",
      "he walked straight into someone just outside the door.\n",
      "\"Sorry,\" he grunted, as the tiny old man stumbled and almost fell. It\n",
      "was a few seconds before Mr. Dursley realized that the man was wearing a\n",
      "violet cloak. He didn't seem at all upset at being almost knocked to the\n",
      "ground. On the contrary, his face split into a wide smile and he said in\n",
      "a squeaky voice that made passersby stare, \"Don't be sorry, my dear sir,\n",
      "for nothing could upset me today! Rejoice, for You-Know-Who has gone at\n",
      "last! Even Muggles like yourself should be celebrating, this happy,\n",
      "happy day!\"\n",
      "And the old man hugged Mr. Dursley around the middle and walked off.\n",
      "Mr. Dursley stood rooted to the spot. He had been hugged by a complete\n",
      "stranger. He also thought he had been called a Muggle, whatever that\n",
      "was. He was rattled. He hurried to his car and set off for home, hoping\n",
      " \n"
     ]
    }
   ],
   "source": [
    "print(text)"
   ]
  },
  {
   "cell_type": "markdown",
   "metadata": {},
   "source": [
    "### Summarisation process ###"
   ]
  },
  {
   "cell_type": "code",
   "execution_count": 89,
   "metadata": {},
   "outputs": [],
   "source": [
    "import openai\n",
    "api_key = None\n",
    "\n",
    "with open('openai.api', 'r') as api:\n",
    "    api_key = api.read()\n",
    "api.close()\n",
    "\n",
    "openai.api_key = api_key"
   ]
  },
  {
   "cell_type": "code",
   "execution_count": 90,
   "metadata": {},
   "outputs": [],
   "source": [
    "tokens = 1024*4\n",
    "segments = 2*tokens//4"
   ]
  },
  {
   "cell_type": "code",
   "execution_count": 91,
   "metadata": {},
   "outputs": [],
   "source": [
    "data_pieces = []\n",
    "# creating data_pieces of segments of 1000 words\n",
    "for i in range(0, len(text), 1000):\n",
    "    data_pieces.append(text[i:i+1000])\n"
   ]
  },
  {
   "cell_type": "code",
   "execution_count": 92,
   "metadata": {},
   "outputs": [],
   "source": [
    "def summarize(input_data):\n",
    "    prompt = \"Create a summary capturing the main points of the following text:\\n\\n\" + input_data\n",
    "    response = openai.Completion.create(\n",
    "        engine=\"text-davinci-002\",\n",
    "        prompt=prompt,\n",
    "        max_tokens=tokens-len(input_data),\n",
    "    )\n",
    "    completed = response['choices'][0]['text'].strip()\n",
    "    return completed"
   ]
  },
  {
   "cell_type": "code",
   "execution_count": 93,
   "metadata": {},
   "outputs": [],
   "source": [
    "summary = \"\"\n",
    "for i in range(len(data_pieces)):\n",
    "    summary += summarize(summary + data_pieces[i])"
   ]
  },
  {
   "cell_type": "code",
   "execution_count": 94,
   "metadata": {},
   "outputs": [
    {
     "name": "stdout",
     "output_type": "stream",
     "text": [
      "- The Dursleys are a normal family who are proud of their normalcy. They have a son, Dudley, and lead normal lives. The only thing abnormal about them is that they are intensely private about the Potters, to the point of fear that someone might find out about them.The Dursleys are a family who pride themselves on their normalcy. The only thing abnormal about them is their intense privacy about the Potters, who are Mrs. Dursley's sister and her husband. The Dursleys are afraid of what the neighbors might say if they found out about the Potters. The Potters have a small son, but the Dursleys have never even seen him. When strange and mysterious things start happening all over the country, the Dursleys are none the wiser.shake and put the cat out of his mind.\n",
      "\n",
      "The Dursleys are a normal family who pride themselves on their normalcy. The only thing abnormal about them is their intense privacy about the Potters, who are Mrs. Dursley's sister and her husband. The Dursleys are afraid of what the neighbors might say if they found out about the Potters. The Potters have a small son, but the Dursleys have never even seen him. When strange and mysterious things start happening all over the country, the Dursleys are none the wiser.sd be it.\n",
      "\n",
      "The Dursleys are a normal family who fears that someone might find out about the Potters, who are Mrs. Dursley's sister and her husband. They have a small son, but the Dursleys have never even seen him. When strange and mysterious things start happening all over the country, the Dursleys are none the wiser.nervous. This bunch were whispering excitedly\n",
      "too, and he couldn't see a single face that he recognized. He was\n",
      "relieved to be safely past them.\n",
      "\n",
      "The Dursleys are a normal family who leads normal lives with the exception of being intensely private about the Potters. When strange things start happening around the country, the Dursleys are none the wiser due to their lack of interest in anything that doesn't concern them directly.The Dursleys are a normal family who pride themselves on their normalcy. The only thing abnormal about them is their intense privacy about the Potters, who are Mrs. Dursley's sister and her husband. The Dursleys are afraid of what the neighbors might say if they found out about the Potters. The Potters have a small son, but the Dursleys have never even seen him. When strange and mysterious things start happening all over the country, the Dursleys are none the wiser.The Dursleys are a family who pride themselves on their normalcy. The only thing abnormal about them is their intense privacy about the Potters, who are Mrs. Dursley's sister and her husband. The Dursleys are afraid of what the neighbors might say if they found out about the Potters. The Potters have a small son, but the Dursleys have never even seen him. When strange and mysterious things start happening all over the country, the Dursleys are none the wiser. Mr. Dursley is worried about the people in cloaks he saw earlier, but is relieved when an old man tells him that You-Know-Who has gone at last.he'd be able to\n",
      "\n",
      "The Dursleys are a family who pride themselves on their normalcy. The only thing abnormal about them is their intense privacy about the Potters, who are Mrs. Dursley's sister and her husband. The Dursleys are afraid of what the neighbors might say if they found out about the Potters. The Potters have a small son, but the Dursleys have never even seen him. When strange and mysterious things start happening all over the country, the Dursleys are none the wiser. Mr. Dursley is worried about the people in cloaks he saw earlier, but is relieved when an old man tells him that You-Know-Who has gone at last.\n"
     ]
    }
   ],
   "source": [
    "print(summary)"
   ]
  },
  {
   "cell_type": "markdown",
   "metadata": {},
   "source": [
    "### For podcast ###"
   ]
  },
  {
   "cell_type": "code",
   "execution_count": 95,
   "metadata": {},
   "outputs": [],
   "source": [
    "# importing modules\n",
    "import pvleopard\n",
    "from pydub import AudioSegment\n",
    "import os"
   ]
  },
  {
   "cell_type": "code",
   "execution_count": 96,
   "metadata": {},
   "outputs": [],
   "source": [
    "def get_audio_length(file_path):\n",
    "    audio = AudioSegment.from_file(file_path)\n",
    "    length_in_seconds = len(audio) / 1000  # Convert milliseconds to seconds\n",
    "    return length_in_seconds"
   ]
  },
  {
   "cell_type": "code",
   "execution_count": 97,
   "metadata": {},
   "outputs": [],
   "source": [
    "def crop_audio(input_mp3, start_time, end_time, cropped_mp3):\n",
    "    audio = AudioSegment.from_mp3(input_mp3)\n",
    "\n",
    "    # Calculate the start and end positions in milliseconds\n",
    "    start_ms = start_time * 1000\n",
    "    end_ms = end_time * 1000\n",
    "\n",
    "    # Crop the audio segment\n",
    "    cropped_audio = audio[start_ms:end_ms]\n",
    "\n",
    "    # Export the cropped audio to a new MP3 file\n",
    "    cropped_audio.export(cropped_mp3, format=\"mp3\")\n",
    "    return cropped_mp3"
   ]
  },
  {
   "cell_type": "code",
   "execution_count": 98,
   "metadata": {},
   "outputs": [],
   "source": [
    "def audio_to_text(CROPPED_AUDIO):\n",
    "    leopard = pvleopard.create(access_key=\"CBt7IGZqr4Ar4y29YdpwSRjvc3XczJUkOLF1+cpyywrbe7ZtjX2Hyg==\")\n",
    "    transcript, words = leopard.process_file(CROPPED_AUDIO)\n",
    "    return transcript"
   ]
  },
  {
   "cell_type": "code",
   "execution_count": 99,
   "metadata": {},
   "outputs": [
    {
     "name": "stdout",
     "output_type": "stream",
     "text": [
      "File found\n",
      "Transcribing audio...\n"
     ]
    }
   ],
   "source": [
    "# transcription preparation process\n",
    "\n",
    "file_path = r\"G:\\hackathon\\hackathon_proj\\Summarisation\\podcasts\\MBp1.mp3\"\n",
    "# if file not present in the directory\n",
    "os.path.join(os.getcwd(), 'podcasts')\n",
    "if not os.path.isfile(file_path):\n",
    "    print(\"File not found\")\n",
    "    exit()\n",
    "else:\n",
    "    print(\"File found\")\n",
    "    print(\"Transcribing audio...\")\n",
    "    start_second = max(0, int(input(\"Enter start second: \")))\n",
    "    ouptut_name = \"abcd.mp3\"\n",
    "    # audio_len = get_audio_length(file_path)\n",
    "    end_second = int(input(\"Enter end second: \"))\n",
    "    cropped_audio = crop_audio(file_path, start_second, end_second, ouptut_name)\n",
    "    transcript = audio_to_text(cropped_audio)\n",
    "    with open(\"transcript.txt\", \"w\", encoding=\"utf-8\") as file:\n",
    "        file.write(transcript)"
   ]
  },
  {
   "cell_type": "markdown",
   "metadata": {},
   "source": [
    "Summarising the transcript of a meeting using NLP"
   ]
  },
  {
   "cell_type": "code",
   "execution_count": 100,
   "metadata": {},
   "outputs": [],
   "source": [
    "# reading the transcript.txt file\n",
    "data = \"\"\n",
    "with open('transcript.txt', 'r') as file:\n",
    "    data = file.read().replace('\\n', '')\n",
    "\n",
    "summarised_podcast = summarize(data)\n",
    "# saving summarised text to a file\n",
    "with open('summarised_podcast.txt', 'w') as file:\n",
    "    file.write(summarised_podcast)\n"
   ]
  },
  {
   "cell_type": "code",
   "execution_count": 101,
   "metadata": {},
   "outputs": [
    {
     "name": "stdout",
     "output_type": "stream",
     "text": [
      "my hope is that you will enjoy this as much as I have enjoyed retelling\n",
      "\n",
      "This is the first installment of a Mahabharata podcast series. The goal is to retell the ancient Indian epic in an abridged, but not too abridged, audio format. The story is about the war between the cousins and the royal Krishna played in it. The hope is that listeners will enjoy the story as much as the narrator has enjoyed retelling it.\n"
     ]
    }
   ],
   "source": [
    "print(summarised_podcast)"
   ]
  },
  {
   "cell_type": "markdown",
   "metadata": {},
   "source": [
    "### Converting text to speech"
   ]
  },
  {
   "cell_type": "code",
   "execution_count": 102,
   "metadata": {},
   "outputs": [],
   "source": [
    "from gtts import gTTS"
   ]
  },
  {
   "cell_type": "code",
   "execution_count": 103,
   "metadata": {},
   "outputs": [],
   "source": [
    "def text_to_audio(input_file, language='en', output_file='output.mp3'):\n",
    "    \"\"\"\n",
    "    Convert text from a file to audio using Google Text-to-Speech (gTTS) library.\n",
    "\n",
    "    Parameters:\n",
    "        input_file (str): The path to the input text file.\n",
    "        language (str): The language code (default is 'en' for English).\n",
    "        output_file (str): The name of the output audio file (default is 'output.mp3').\n",
    "\n",
    "    Returns:\n",
    "        None\n",
    "    \"\"\"\n",
    "    with open(input_file, 'r', encoding='utf-8') as file:\n",
    "        text = file.read().replace('\\n', ' ')\n",
    "\n",
    "    tts = gTTS(text=text, lang=language, slow=False)\n",
    "    tts.save(output_file)\n",
    "    print(f\"Text from {input_file} converted to audio and saved as {output_file}\")"
   ]
  },
  {
   "cell_type": "code",
   "execution_count": 104,
   "metadata": {},
   "outputs": [
    {
     "name": "stdout",
     "output_type": "stream",
     "text": [
      "Text from summarised_podcast.txt converted to audio and saved as output.mp3\n"
     ]
    }
   ],
   "source": [
    "# converting summary to audio\n",
    "text_to_audio('summarised_podcast.txt')"
   ]
  },
  {
   "cell_type": "code",
   "execution_count": null,
   "metadata": {},
   "outputs": [],
   "source": []
  }
 ],
 "metadata": {
  "kernelspec": {
   "display_name": "Python 3",
   "language": "python",
   "name": "python3"
  },
  "language_info": {
   "codemirror_mode": {
    "name": "ipython",
    "version": 3
   },
   "file_extension": ".py",
   "mimetype": "text/x-python",
   "name": "python",
   "nbconvert_exporter": "python",
   "pygments_lexer": "ipython3",
   "version": "3.10.9"
  },
  "orig_nbformat": 4
 },
 "nbformat": 4,
 "nbformat_minor": 2
}
