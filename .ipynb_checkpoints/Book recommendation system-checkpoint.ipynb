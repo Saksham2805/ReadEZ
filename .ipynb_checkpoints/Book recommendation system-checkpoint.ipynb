{
 "cells": [
  {
   "cell_type": "code",
   "execution_count": 1,
   "id": "40ae3e46",
   "metadata": {},
   "outputs": [],
   "source": [
    "import mysql.connector"
   ]
  },
  {
   "cell_type": "code",
   "execution_count": 41,
   "id": "7cc6cc30",
   "metadata": {},
   "outputs": [],
   "source": [
    "def create_database(host, user, password, database, table):\n",
    "    connection = None\n",
    "    try:\n",
    "        connection = mysql.connector.connect(host=host, user=user, password=password, database=database)\n",
    "        cursor = connection.cursor()\n",
    "#         cursor.execute(f\"create database {database}\")\n",
    "#         print(\"Database connection success\")\n",
    "#         table = f\"create table books (id INT AUTO_INCREMENT PRIMARY KEY, book_title VARCHAR(255))\"\n",
    "#         cursor.execute(table)\n",
    "#         print(\"Table creation success\")\n",
    "        books = [('The immortals of meluha',), ('Harry Potter',), ('Lord of the rings',), ('Sherlock Holmes',), ('Wheel of Time',)]\n",
    "        #for book in books:\n",
    "        insert = f\"insert into {table} (book_title) values (%s)\"\n",
    "        cursor.executemany(insert, books)\n",
    "        connection.commit()\n",
    "        print(\"Inserted successfully\")\n",
    "        if connection.is_connected():\n",
    "            cursor.close()\n",
    "            connection.close()\n",
    "    except mysql.connector.Error as err:\n",
    "        print(err)\n",
    "        "
   ]
  },
  {
   "cell_type": "code",
   "execution_count": 46,
   "id": "2ff0e6ac",
   "metadata": {},
   "outputs": [],
   "source": [
    "def fetch(host, user, password, database, table):\n",
    "    connection = None\n",
    "    rows = []\n",
    "    try:\n",
    "        connection = mysql.connector.connect(host=host, user=user, password=password, database=database)\n",
    "        cursor = connection.cursor()\n",
    "        cursor.execute(f\"select book_title from {table}\")\n",
    "        rows = cursor.fetchall()\n",
    "        if connection.is_connected():\n",
    "            cursor.close()\n",
    "            connection.close()\n",
    "            \n",
    "    except mysql.connector.Error as err:\n",
    "        print(err)\n",
    "        \n",
    "    finally:\n",
    "        return rows"
   ]
  },
  {
   "cell_type": "code",
   "execution_count": 48,
   "id": "e228f8f3",
   "metadata": {},
   "outputs": [
    {
     "data": {
      "text/plain": [
       "['The immortals of meluha',\n",
       " 'Harry Potter',\n",
       " 'Lord of the rings',\n",
       " 'Sherlock Holmes',\n",
       " 'Wheel of Time']"
      ]
     },
     "execution_count": 48,
     "metadata": {},
     "output_type": "execute_result"
    }
   ],
   "source": [
    "host = '127.0.0.1'\n",
    "user = 'root'\n",
    "password = 'Iammask24haha!'\n",
    "database = 'Books_database'\n",
    "table = 'books'\n",
    "\n",
    "#create_database(host, user, password, database, table)\n",
    "rows = fetch(host, user, password, database, table)\n",
    "\n",
    "books = []\n",
    "\n",
    "for row in rows:\n",
    "    for book in row:\n",
    "        books.append(book)\n",
    "        \n",
    "books"
   ]
  },
  {
   "cell_type": "code",
   "execution_count": 49,
   "id": "b183c416",
   "metadata": {},
   "outputs": [
    {
     "name": "stdout",
     "output_type": "stream",
     "text": [
      "The immortals of meluha, Harry Potter, Lord of the rings, Sherlock Holmes, Wheel of Time\n"
     ]
    }
   ],
   "source": [
    "separator = ', '\n",
    "books = separator.join(books)\n",
    "print(books)"
   ]
  },
  {
   "cell_type": "code",
   "execution_count": null,
   "id": "ff3a4f8c",
   "metadata": {},
   "outputs": [],
   "source": []
  },
  {
   "cell_type": "code",
   "execution_count": 65,
   "id": "04bf51f6",
   "metadata": {},
   "outputs": [],
   "source": [
    "import openai\n",
    "import os"
   ]
  },
  {
   "cell_type": "code",
   "execution_count": 66,
   "id": "d77c2fb5",
   "metadata": {},
   "outputs": [],
   "source": [
    "api_key = None\n",
    "\n",
    "with open('openai.api', 'r') as api:\n",
    "    api_key = api.read()\n",
    "api.close()\n",
    "\n",
    "openai.api_key = api_key"
   ]
  },
  {
   "cell_type": "code",
   "execution_count": 67,
   "id": "f6fa344f",
   "metadata": {},
   "outputs": [],
   "source": [
    "def get_recommendations():\n",
    "    prompt = f\"Recommend me what to read next based on the following books that I read\\n{books}\"\n",
    "    response = openai.Completion.create(\n",
    "        engine=\"text-davinci-002\",\n",
    "        prompt=prompt,\n",
    "        max_tokens=150,\n",
    "    )\n",
    "    \n",
    "    return response['choices'][0]['text'].strip()"
   ]
  },
  {
   "cell_type": "code",
   "execution_count": 68,
   "id": "f569dae8",
   "metadata": {},
   "outputs": [
    {
     "data": {
      "text/plain": [
       "\"If you enjoyed the epic fantasy of The Wheel of Time, you might want to try Robert Jordan's other series, The Chronicles of Prydain. If you like stories with a bit more mystery, you might try some of Agatha Christie's Hercule Poirot mysteries.\""
      ]
     },
     "execution_count": 68,
     "metadata": {},
     "output_type": "execute_result"
    }
   ],
   "source": [
    "get_recommendations()"
   ]
  },
  {
   "cell_type": "code",
   "execution_count": null,
   "id": "a9ce40fe",
   "metadata": {},
   "outputs": [],
   "source": []
  }
 ],
 "metadata": {
  "kernelspec": {
   "display_name": "Python 3 (ipykernel)",
   "language": "python",
   "name": "python3"
  },
  "language_info": {
   "codemirror_mode": {
    "name": "ipython",
    "version": 3
   },
   "file_extension": ".py",
   "mimetype": "text/x-python",
   "name": "python",
   "nbconvert_exporter": "python",
   "pygments_lexer": "ipython3",
   "version": "3.9.12"
  }
 },
 "nbformat": 4,
 "nbformat_minor": 5
}
