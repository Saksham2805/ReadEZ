{
 "cells": [
  {
   "cell_type": "markdown",
   "id": "5a22b5a1",
   "metadata": {},
   "source": [
    "# End the Plot"
   ]
  },
  {
   "attachments": {},
   "cell_type": "markdown",
   "id": "85b30767",
   "metadata": {},
   "source": [
    "The ‘Read EZ – End the Plot’ is an innovative storytelling tool designed to help writers, storytellers, and creative minds conclude their narratives effectively. As its name suggests, this tool allows users to determine and apply the desired type of ending for any given plot. Whether it's a short story, novel, screenplay, or any other form of storytelling, 'End the Plot' aims to provide a fitting and impactful conclusion."
   ]
  },
  {
   "cell_type": "raw",
   "id": "bdce783c",
   "metadata": {},
   "source": [
    "Input: \n",
    "1. Plot you want to end\n",
    "2. How you want to end, e.g, Dark ending, Psychological thriller, Happy, etc.\n",
    "\n",
    "Output: \n",
    "Completed Plot with desired ending."
   ]
  },
  {
   "cell_type": "code",
   "execution_count": 1,
   "id": "4ea6582c",
   "metadata": {},
   "outputs": [
    {
     "name": "stdout",
     "output_type": "stream",
     "text": [
      "Given Plot:\n",
      "Shiva walked back to the temple steps. As he sat down, he breathed in deeply and let the tranquil atmosphere suffuse him with its serenity. And then it happened. The moment that every unrealised heart craves for. The unforgettable instant that a soul, clinging on to the purest memory of its previous life, longs for. The moment which, in spite of a conspiracy of the gods, only a few lucky men experience. The moment when she enters his life.She rode in on a chariot, guiding the horses expertly into the courtyard, while a lady companion by her side held on to the railings. Although her black hair was tied in an understated bun, a few strands danced a spellbinding kathak in the wind. Her piercingly magnetic, blue eyes and bronzed skin were an invitation for jealousy from the goddesses. Her body, though covered demurely in a long angvastram, still ignited Shiva's imagination into sensing the lovely curves which lay beneath. Her flawless face was a picture of concentration as she manoeuvred the chariot skilfully into its parking place. She dismounted the chariot with an air of confidence.\n",
      "\n",
      "Completed ending:\n",
      "The woman walked up to Shiva and held out her hand. \"I'm Kavya,\" she said. \"I'm here to challenge you to the ultimate game.\"\n",
      "\n",
      "Shiva looked at her, confused. \"What game?\"\n",
      "\n",
      "\"A game of life and death,\" Kavya replied. \"I know you're the best player in the world. But I'm confident I can beat you.\"\n",
      "\n",
      "Shiva's eyes narrowed. \"You're certainly confident,\" he said. \"But I don't play games.\"\n",
      "\n",
      "\"This is no game,\" Kavya said. \"If I win, you die. If you win, I'll leave you alone forever.\"\n",
      "\n",
      "Shiva considered her for a moment. There was something about her that made him want to take her up on her offer. \"All right,\" he said. \"Let's play.\"\n",
      "\n",
      "Kavya grinned. \"I knew you'd accept my challenge.\"\n",
      "\n",
      "The two of them sat down across from each other, and Kavya began to lay out the pieces. \"This is a game of strategy,\" she said. \"You have to outthink your opponent in order to win.\"\n",
      "\n",
      "Shiva nodded. He was a master strategist, and he was confident he could beat her.\n",
      "\n",
      "The game began, and for a while, it was even. But then Kavya made a move that seemed to catch Shiva off-guard. He began to lose ground, and soon, it was clear that he was in trouble.\n",
      "\n",
      "Kavya was smirking now, confident that she was going to win. But Shiva refused to give up. He fought back, using every ounce of his skill and experience.\n",
      "\n",
      "And then, finally, he had her. Kavya's face turned to shock as she realized she was about to lose.\n",
      "\n",
      "\"No!\" she screeched. \"This isn't possible!\"\n",
      "\n",
      "Shiva met her eyes, and he could see the fear in them. \"It is possible,\" he said calmly. \"Because I'm the better player.\"\n",
      "\n",
      "With those words, he made his final move, and Kavya was checkmated.\n",
      "\n",
      "She stood up, her face contorted in rage. \"You may have won this round,\" she spat. \"But I'll be back. And next time, I'll make sure you don't walk away alive.\"\n",
      "\n",
      "With those words, she turned and stormed away.\n",
      "\n",
      "Shiva watched her go, his heart pounding in his chest. He had never faced an opponent like Kavya before. She was dangerous, and he knew she would be back.\n",
      "\n",
      "But he was ready for her. He would be waiting, and he would be ready to beat her again.\n"
     ]
    }
   ],
   "source": [
    "#connect to gpt3.5 turbo inorder to get the completed plot with desired ending.\n",
    "\n",
    "#1. read api\n",
    "import openai\n",
    "api_key = None\n",
    "\n",
    "with open('openai.api', 'r') as api:\n",
    "    api_key = api.read()\n",
    "api.close()\n",
    "\n",
    "openai.api_key = api_key\n",
    "\n",
    "\n",
    "#function that returns the completed plot.\n",
    "def complete_plot_with_ending(plot, desired_ending):\n",
    "    prompt_len = len(plot)\n",
    "    prompt = f\"End the plot with a {desired_ending} in {4096 - prompt_len} words:\\n\\n{plot}\\n\\nEnding:\"\n",
    "    response = openai.Completion.create(\n",
    "        engine=\"text-davinci-002\",\n",
    "        prompt=prompt,\n",
    "        max_tokens=4096-len(plot),\n",
    "    )\n",
    "\n",
    "    completed_ending = response['choices'][0]['text'].strip()\n",
    "    return completed_ending\n",
    "\n",
    "plot = \"Shiva walked back to the temple steps. As he sat down, he breathed in deeply and let the tranquil atmosphere suffuse him with its serenity. And then it happened. The moment that every unrealised heart craves for. The unforgettable instant that a soul, clinging on to the purest memory of its previous life, longs for. The moment which, in spite of a conspiracy of the gods, only a few lucky men experience. The moment when she enters his life.She rode in on a chariot, guiding the horses expertly into the courtyard, while a lady companion by her side held on to the railings. Although her black hair was tied in an understated bun, a few strands danced a spellbinding kathak in the wind. Her piercingly magnetic, blue eyes and bronzed skin were an invitation for jealousy from the goddesses. Her body, though covered demurely in a long angvastram, still ignited Shiva's imagination into sensing the lovely curves which lay beneath. Her flawless face was a picture of concentration as she manoeuvred the chariot skilfully into its parking place. She dismounted the chariot with an air of confidence.\"\n",
    "\n",
    "desired_ending = \"Psycological Thriller\"\n",
    "\n",
    "\n",
    "#stores the result genrated from above function.\n",
    "completed_ending = complete_plot_with_ending(plot, desired_ending)\n",
    "\n",
    "#print the result.\n",
    "print(\"Given Plot:\")\n",
    "print(plot)\n",
    "print(\"\\nCompleted ending:\")\n",
    "print(completed_ending)\n"
   ]
  },
  {
   "cell_type": "code",
   "execution_count": null,
   "id": "4a0543ef",
   "metadata": {},
   "outputs": [],
   "source": []
  },
  {
   "cell_type": "markdown",
   "id": "ea624eb4",
   "metadata": {},
   "source": [
    "Limitation: We have to give only the last paragraph of a chapter as the context for gpt to end the plot. Because we are allowed only 4096 tokens. That's all we get in 5 dollars. In the 4096 tokens, gpt takes into account the number of tokens used in giving propt as well. That's why lets limit the prompt as last paragraph as of now."
   ]
  }
 ],
 "metadata": {
  "kernelspec": {
   "display_name": "Python 3 (ipykernel)",
   "language": "python",
   "name": "python3"
  },
  "language_info": {
   "codemirror_mode": {
    "name": "ipython",
    "version": 3
   },
   "file_extension": ".py",
   "mimetype": "text/x-python",
   "name": "python",
   "nbconvert_exporter": "python",
   "pygments_lexer": "ipython3",
   "version": "3.9.12"
  }
 },
 "nbformat": 4,
 "nbformat_minor": 5
}
